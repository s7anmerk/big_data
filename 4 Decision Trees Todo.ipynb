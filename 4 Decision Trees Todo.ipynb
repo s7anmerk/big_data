{
 "cells": [
  {
   "cell_type": "code",
   "execution_count": 75,
   "metadata": {},
   "outputs": [],
   "source": [
    "# import symbolic capability to Python\n",
    "from sympy import *\n",
    "# print things all pretty\n",
    "from sympy.abc import *\n",
    "from sympy.plotting import plot\n",
    "import matplotlib.pyplot as plt\n",
    "import numpy as np\n",
    "from IPython.display import display\n",
    "from sympy.core.evalf import *\n",
    "init_printing()"
   ]
  },
  {
   "cell_type": "markdown",
   "metadata": {},
   "source": [
    "# Exercise\n",
    "\n",
    "You have a dataset with $m$ binary columns and $n$ rows. A given decision tree has the depth $d$.\n",
    "\n",
    "## Questions:\n",
    "1. How many different decision trees with depth $d=1$ are possible for a dataset with $m$ binary columns and $n$ rows?\n",
    "2. How many different decision trees with depth $d=2$ are possible for a dataset with $m$ binary columns and $n$ rows?\n",
    "3. How many different decision trees with depth $d=3$ are possible for a dataset with $m$ binary columns and $n$ rows?\n",
    "4. How many different decision trees with depth $d=4$ are possible for a dataset with $m$ binary columns and $n$ rows?\n",
    "5. In general, how many different decision trees with depth $d$ are possible for a dataset with $m$ binary columns and $n$ rows?\n",
    "6. How may different decision trees are possible for $m=4$ and $d=4$?\n",
    "7. In general, how many different decision trees of any depth are possible for a dataset with $m$ binary columns and $n$ rows?\n",
    "8. How many decision trees are possible for $m=4$ binary columns?\n",
    "9. There are $10^{80}$ atoms in the universe. What is the value for $m$ so that the number of decision trees is greater than the number of atoms in the universe?\n",
    "10. How many operations (steps) does the naive testing take of all possible decision trees for a dataset with $m$ binary columns and $n$ rows?\n",
    "11. How many operations (steps) does the naive testing take of all possible decision trees for a dataset with $m=3$ binary columns and $n=100$ rows?"
   ]
  },
  {
   "cell_type": "markdown",
   "metadata": {},
   "source": [
    "Variables:\n",
    "* $n$: number of rows of the data\n",
    "* $m$: number of binary columns (attributes) of the data\n",
    "* $d$: depth of the decision tree"
   ]
  },
  {
   "cell_type": "code",
   "execution_count": 76,
   "metadata": {},
   "outputs": [],
   "source": [
    "m = symbols(\"m\", positive=True, integer=True)\n",
    "d = symbols(\"d\", positive=True, integer=True)\n",
    "n = symbols(\"n\", positive=True, integer=True)"
   ]
  },
  {
   "cell_type": "markdown",
   "metadata": {},
   "source": [
    "## Answers:\n",
    "\n",
    "Todo"
   ]
  },
  {
   "cell_type": "code",
   "execution_count": 77,
   "metadata": {},
   "outputs": [
    {
     "data": {
      "image/png": "[encoded data removed]",
      "text/latex": [
       "$$m$$"
      ],
      "text/plain": [
       "m"
      ]
     },
     "execution_count": 77,
     "metadata": {},
     "output_type": "execute_result"
    }
   ],
   "source": [
    "# 1. How many different decision trees with depth  d=1  are possible for a dataset with  m  binary columns and  n  rows?\n",
    "# Answer: m\n",
    "m"
   ]
  },
  {
   "cell_type": "code",
   "execution_count": 78,
   "metadata": {},
   "outputs": [
    {
     "data": {
      "image/png": "[encoded data removed]",
      "text/latex": [
       "$$m \\left(m - 1\\right)^{2}$$"
      ],
      "text/plain": [
       "         2\n",
       "m⋅(m - 1) "
      ]
     },
     "execution_count": 78,
     "metadata": {},
     "output_type": "execute_result"
    }
   ],
   "source": [
    "# 2. How many different decision trees with depth  d=2  are possible for a dataset with  m  binary columns and  n  rows?\n",
    "m*(m-1)**2"
   ]
  },
  {
   "cell_type": "code",
   "execution_count": 79,
   "metadata": {},
   "outputs": [
    {
     "data": {
      "image/png": "[encoded data removed]",
      "text/latex": [
       "$$m \\left(m - 2\\right)^{4} \\left(m - 1\\right)^{2}$$"
      ],
      "text/plain": [
       "         4        2\n",
       "m⋅(m - 2) ⋅(m - 1) "
      ]
     },
     "execution_count": 79,
     "metadata": {},
     "output_type": "execute_result"
    }
   ],
   "source": [
    "# 3. How many different decision trees with depth  d=3  are possible for a dataset with  m  binary columns and  n  rows?\n",
    "m*(m-1)**2*(m-2)**4"
   ]
  },
  {
   "cell_type": "code",
   "execution_count": 80,
   "metadata": {},
   "outputs": [
    {
     "data": {
      "image/png": "[encoded data removed]",
      "text/latex": [
       "$$m \\left(m - 3\\right)^{8} \\left(m - 2\\right)^{4} \\left(m - 1\\right)^{2}$$"
      ],
      "text/plain": [
       "         8        4        2\n",
       "m⋅(m - 3) ⋅(m - 2) ⋅(m - 1) "
      ]
     },
     "execution_count": 80,
     "metadata": {},
     "output_type": "execute_result"
    }
   ],
   "source": [
    "# 4. How many different decision trees with depth  d=4  are possible for a dataset with  m  binary columns and  n  rows?\n",
    "m*(m-1)**2*(m-2)**4*(m-3)**8"
   ]
  },
  {
   "cell_type": "code",
   "execution_count": 81,
   "metadata": {},
   "outputs": [],
   "source": [
    "# 5. In general, how many different decision trees with depth  d  are possible for a dataset with  m  binary columns and  n  rows?\n",
    "ntrees = (m*(m-(d-1))**2**(d-1))"
   ]
  },
  {
   "cell_type": "code",
   "execution_count": 82,
   "metadata": {},
   "outputs": [
    {
     "data": {
      "image/png": "[encoded data removed]",
      "text/latex": [
       "$$4.0$$"
      ],
      "text/plain": [
       "4.00000000000000"
      ]
     },
     "execution_count": 82,
     "metadata": {},
     "output_type": "execute_result"
    }
   ],
   "source": [
    "# 6. How may different decision trees are possible for  m=4  and  d=4 ?\n",
    "ntrees.evalf(subs={m:4, d:4})"
   ]
  },
  {
   "cell_type": "code",
   "execution_count": 83,
   "metadata": {},
   "outputs": [
    {
     "data": {
      "image/png": "[encoded data removed]",
      "text/latex": [
       "$$m \\left(- d + m + 1.0\\right)^{2.0^{d - 1.0}}$$"
      ],
      "text/plain": [
       "                ⎛   d - 1.0⎞\n",
       "                ⎝2.0       ⎠\n",
       "m⋅(-d + m + 1.0)            "
      ]
     },
     "execution_count": 83,
     "metadata": {},
     "output_type": "execute_result"
    }
   ],
   "source": [
    "# 8. How many decision trees are possible for  m=4  binary columns?\n",
    "ntrees.evalf(subs={m:4})"
   ]
  },
  {
   "cell_type": "code",
   "execution_count": 84,
   "metadata": {},
   "outputs": [
    {
     "data": {
      "image/png": "[encoded data removed]",
      "text/latex": [
       "$$1.0 \\cdot 10^{82}$$"
      ],
      "text/plain": [
       "1.00000000000000e+82"
      ]
     },
     "execution_count": 84,
     "metadata": {},
     "output_type": "execute_result"
    }
   ],
   "source": [
    "# 9. There are  10**80  atoms in the universe. What is the value for  m  so that the number of decision trees is greater than the number of atoms in the universe?\n",
    "ntrees.evalf(subs={m:(10**(40 + 1)), d:1})  # for depth=1"
   ]
  },
  {
   "cell_type": "code",
   "execution_count": 88,
   "metadata": {},
   "outputs": [
    {
     "ename": "ValueError",
     "evalue": "specify dummy variables for d*n*(-i + m)**(2**i)",
     "output_type": "error",
     "traceback": [
      "\u001b[1;31m---------------------------------------------------------------------------\u001b[0m",
      "\u001b[1;31mValueError\u001b[0m                                Traceback (most recent call last)",
      "\u001b[1;32m<ipython-input-88-831ae7bea00b>\u001b[0m in \u001b[0;36m<module>\u001b[1;34m()\u001b[0m\n\u001b[0;32m      3\u001b[0m \u001b[1;32mfrom\u001b[0m \u001b[0msympy\u001b[0m \u001b[1;32mimport\u001b[0m \u001b[0mproduct\u001b[0m \u001b[1;32mas\u001b[0m \u001b[0mProduct\u001b[0m\u001b[1;33m\u001b[0m\u001b[0m\n\u001b[0;32m      4\u001b[0m \u001b[1;31m#i = symbols(\"i\", positive=True, integer=True)\u001b[0m\u001b[1;33m\u001b[0m\u001b[1;33m\u001b[0m\u001b[0m\n\u001b[1;32m----> 5\u001b[1;33m \u001b[0moperations\u001b[0m \u001b[1;33m=\u001b[0m \u001b[0mSummation\u001b[0m\u001b[1;33m(\u001b[0m\u001b[0mProduct\u001b[0m\u001b[1;33m(\u001b[0m\u001b[1;33m(\u001b[0m\u001b[0mm\u001b[0m\u001b[1;33m-\u001b[0m\u001b[0mi\u001b[0m\u001b[1;33m)\u001b[0m\u001b[1;33m**\u001b[0m\u001b[1;33m(\u001b[0m\u001b[1;36m2\u001b[0m\u001b[1;33m)\u001b[0m\u001b[1;33m**\u001b[0m\u001b[0mi\u001b[0m\u001b[1;33m*\u001b[0m\u001b[0md\u001b[0m\u001b[1;33m*\u001b[0m\u001b[0mn\u001b[0m\u001b[1;33m)\u001b[0m\u001b[1;33m,\u001b[0m \u001b[1;33m(\u001b[0m\u001b[1;36m1\u001b[0m\u001b[1;33m,\u001b[0m \u001b[1;36m0\u001b[0m\u001b[1;33m,\u001b[0m \u001b[0md\u001b[0m\u001b[1;33m-\u001b[0m\u001b[1;36m1\u001b[0m\u001b[1;33m)\u001b[0m\u001b[1;33m)\u001b[0m\u001b[1;33m\u001b[0m\u001b[0m\n\u001b[0m",
      "\u001b[1;32mC:\\ProgramData\\Anaconda3\\lib\\site-packages\\sympy\\concrete\\products.py\u001b[0m in \u001b[0;36mproduct\u001b[1;34m(*args, **kwargs)\u001b[0m\n\u001b[0;32m    510\u001b[0m     \"\"\"\n\u001b[0;32m    511\u001b[0m \u001b[1;33m\u001b[0m\u001b[0m\n\u001b[1;32m--> 512\u001b[1;33m     \u001b[0mprod\u001b[0m \u001b[1;33m=\u001b[0m \u001b[0mProduct\u001b[0m\u001b[1;33m(\u001b[0m\u001b[1;33m*\u001b[0m\u001b[0margs\u001b[0m\u001b[1;33m,\u001b[0m \u001b[1;33m**\u001b[0m\u001b[0mkwargs\u001b[0m\u001b[1;33m)\u001b[0m\u001b[1;33m\u001b[0m\u001b[0m\n\u001b[0m\u001b[0;32m    513\u001b[0m \u001b[1;33m\u001b[0m\u001b[0m\n\u001b[0;32m    514\u001b[0m     \u001b[1;32mif\u001b[0m \u001b[0misinstance\u001b[0m\u001b[1;33m(\u001b[0m\u001b[0mprod\u001b[0m\u001b[1;33m,\u001b[0m \u001b[0mProduct\u001b[0m\u001b[1;33m)\u001b[0m\u001b[1;33m:\u001b[0m\u001b[1;33m\u001b[0m\u001b[0m\n",
      "\u001b[1;32mC:\\ProgramData\\Anaconda3\\lib\\site-packages\\sympy\\concrete\\products.py\u001b[0m in \u001b[0;36m__new__\u001b[1;34m(cls, function, *symbols, **assumptions)\u001b[0m\n\u001b[0;32m    190\u001b[0m \u001b[1;33m\u001b[0m\u001b[0m\n\u001b[0;32m    191\u001b[0m     \u001b[1;32mdef\u001b[0m \u001b[0m__new__\u001b[0m\u001b[1;33m(\u001b[0m\u001b[0mcls\u001b[0m\u001b[1;33m,\u001b[0m \u001b[0mfunction\u001b[0m\u001b[1;33m,\u001b[0m \u001b[1;33m*\u001b[0m\u001b[0msymbols\u001b[0m\u001b[1;33m,\u001b[0m \u001b[1;33m**\u001b[0m\u001b[0massumptions\u001b[0m\u001b[1;33m)\u001b[0m\u001b[1;33m:\u001b[0m\u001b[1;33m\u001b[0m\u001b[0m\n\u001b[1;32m--> 192\u001b[1;33m         \u001b[0mobj\u001b[0m \u001b[1;33m=\u001b[0m \u001b[0mExprWithIntLimits\u001b[0m\u001b[1;33m.\u001b[0m\u001b[0m__new__\u001b[0m\u001b[1;33m(\u001b[0m\u001b[0mcls\u001b[0m\u001b[1;33m,\u001b[0m \u001b[0mfunction\u001b[0m\u001b[1;33m,\u001b[0m \u001b[1;33m*\u001b[0m\u001b[0msymbols\u001b[0m\u001b[1;33m,\u001b[0m \u001b[1;33m**\u001b[0m\u001b[0massumptions\u001b[0m\u001b[1;33m)\u001b[0m\u001b[1;33m\u001b[0m\u001b[0m\n\u001b[0m\u001b[0;32m    193\u001b[0m         \u001b[1;32mreturn\u001b[0m \u001b[0mobj\u001b[0m\u001b[1;33m\u001b[0m\u001b[0m\n\u001b[0;32m    194\u001b[0m \u001b[1;33m\u001b[0m\u001b[0m\n",
      "\u001b[1;32mC:\\ProgramData\\Anaconda3\\lib\\site-packages\\sympy\\concrete\\expr_with_limits.py\u001b[0m in \u001b[0;36m__new__\u001b[1;34m(cls, function, *symbols, **assumptions)\u001b[0m\n\u001b[0;32m     97\u001b[0m             \u001b[1;32mif\u001b[0m \u001b[0mlen\u001b[0m\u001b[1;33m(\u001b[0m\u001b[0mfree\u001b[0m\u001b[1;33m)\u001b[0m \u001b[1;33m!=\u001b[0m \u001b[1;36m1\u001b[0m\u001b[1;33m:\u001b[0m\u001b[1;33m\u001b[0m\u001b[0m\n\u001b[0;32m     98\u001b[0m                 raise ValueError(\n\u001b[1;32m---> 99\u001b[1;33m                     \"specify dummy variables for %s\" % function)\n\u001b[0m\u001b[0;32m    100\u001b[0m             \u001b[0mlimits\u001b[0m\u001b[1;33m,\u001b[0m \u001b[0morientation\u001b[0m \u001b[1;33m=\u001b[0m \u001b[1;33m[\u001b[0m\u001b[0mTuple\u001b[0m\u001b[1;33m(\u001b[0m\u001b[0ms\u001b[0m\u001b[1;33m)\u001b[0m \u001b[1;32mfor\u001b[0m \u001b[0ms\u001b[0m \u001b[1;32min\u001b[0m \u001b[0mfree\u001b[0m\u001b[1;33m]\u001b[0m\u001b[1;33m,\u001b[0m \u001b[1;36m1\u001b[0m\u001b[1;33m\u001b[0m\u001b[0m\n\u001b[0;32m    101\u001b[0m \u001b[1;33m\u001b[0m\u001b[0m\n",
      "\u001b[1;31mValueError\u001b[0m: specify dummy variables for d*n*(-i + m)**(2**i)"
     ]
    }
   ],
   "source": [
    "# 10. How many operations (steps) does the naive testing take of all possible decision trees for a dataset with  m  binary columns and  n  rows?\n",
    "from sympy.concrete.summations import summation as Summation\n",
    "from sympy import product as Product\n",
    "#i = symbols(\"i\", positive=True, integer=True)\n",
    "operations = Summation(Product((m-i)**(2)**i*d*n), (1, 0, d-1))"
   ]
  },
  {
   "cell_type": "code",
   "execution_count": 87,
   "metadata": {},
   "outputs": [
    {
     "ename": "AttributeError",
     "evalue": "module 'sympy.core.operations' has no attribute 'evalf'",
     "output_type": "error",
     "traceback": [
      "\u001b[1;31m---------------------------------------------------------------------------\u001b[0m",
      "\u001b[1;31mAttributeError\u001b[0m                            Traceback (most recent call last)",
      "\u001b[1;32m<ipython-input-87-4ee3a6d4c1d4>\u001b[0m in \u001b[0;36m<module>\u001b[1;34m()\u001b[0m\n\u001b[0;32m      1\u001b[0m \u001b[1;31m# 11. How many operations (steps) does the naive testing take of all possible decision trees for a dataset with  m=3  binary columns and  n=100  rows?\u001b[0m\u001b[1;33m\u001b[0m\u001b[1;33m\u001b[0m\u001b[0m\n\u001b[1;32m----> 2\u001b[1;33m \u001b[0moperations\u001b[0m\u001b[1;33m.\u001b[0m\u001b[0mevalf\u001b[0m\u001b[1;33m(\u001b[0m\u001b[0msubs\u001b[0m\u001b[1;33m=\u001b[0m\u001b[1;33m{\u001b[0m\u001b[0mm\u001b[0m\u001b[1;33m:\u001b[0m\u001b[1;36m3\u001b[0m\u001b[1;33m,\u001b[0m \u001b[0mn\u001b[0m\u001b[1;33m:\u001b[0m\u001b[1;36m100\u001b[0m\u001b[1;33m}\u001b[0m\u001b[1;33m)\u001b[0m\u001b[1;33m\u001b[0m\u001b[0m\n\u001b[0m",
      "\u001b[1;31mAttributeError\u001b[0m: module 'sympy.core.operations' has no attribute 'evalf'"
     ]
    }
   ],
   "source": [
    "# 11. How many operations (steps) does the naive testing take of all possible decision trees for a dataset with  m=3  binary columns and  n=100  rows?\n",
    "operations.evalf(subs={m:3, n:100})"
   ]
  }
 ],
 "metadata": {
  "kernelspec": {
   "display_name": "Python 3",
   "language": "python",
   "name": "python3"
  },
  "language_info": {
   "codemirror_mode": {
    "name": "ipython",
    "version": 3
   },
   "file_extension": ".py",
   "mimetype": "text/x-python",
   "name": "python",
   "nbconvert_exporter": "python",
   "pygments_lexer": "ipython3",
   "version": "3.7.0"
  },
  "varInspector": {
   "cols": {
    "lenName": 16,
    "lenType": 16,
    "lenVar": 40
   },
   "kernels_config": {
    "python": {
     "delete_cmd_postfix": "",
     "delete_cmd_prefix": "del ",
     "library": "var_list.py",
     "varRefreshCmd": "print(var_dic_list())"
    },
    "r": {
     "delete_cmd_postfix": ") ",
     "delete_cmd_prefix": "rm(",
     "library": "var_list.r",
     "varRefreshCmd": "cat(var_dic_list()) "
    }
   },
   "types_to_exclude": [
    "module",
    "function",
    "builtin_function_or_method",
    "instance",
    "_Feature"
   ],
   "window_display": false
  }
 },
 "nbformat": 4,
 "nbformat_minor": 2
}
