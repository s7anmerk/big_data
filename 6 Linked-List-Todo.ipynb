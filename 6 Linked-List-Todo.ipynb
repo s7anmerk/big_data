{
 "cells": [
  {
   "cell_type": "markdown",
   "metadata": {},
   "source": [
    "# Linked List"
   ]
  },
  {
   "cell_type": "markdown",
   "metadata": {},
   "source": [
    "![Linked List](https://cdncontribute.geeksforgeeks.org/wp-content/uploads/Linkedlist-2.png)\n",
    "\n",
    "See https://yongdanielliang.github.io/animation/web/LinkedList.html for an animation."
   ]
  },
  {
   "cell_type": "code",
   "execution_count": 115,
   "metadata": {},
   "outputs": [],
   "source": [
    "class Node(object):\n",
    "\n",
    "    def __init__ (self, d, n = None):\n",
    "        self.data = d\n",
    "        self.next_node = n\n",
    "\n",
    "    def get_next (self):\n",
    "        return self.next_node\n",
    "\n",
    "    def set_next (self, n):\n",
    "        self.next_node = n\n",
    "\n",
    "    def get_data (self):\n",
    "        return self.data\n",
    "\n",
    "    def set_data (self, d):\n",
    "        self.data = d\n",
    "\n",
    "    def has_next (self):\n",
    "        if self.get_next() is None:\n",
    "            return False\n",
    "        return True\n",
    "\n",
    "    def to_string (self):\n",
    "        return \"Node value: \" + str(self.data)"
   ]
  },
  {
   "cell_type": "code",
   "execution_count": 116,
   "metadata": {},
   "outputs": [],
   "source": [
    "class LinkedList:\n",
    "    def __init__(self, r=None):\n",
    "        self.head = r\n",
    "        self.last_node = r\n",
    "        return\n",
    "        \n",
    "        \n",
    "    def append(self, d):\n",
    "        \"\"\"Append the new element at the end of the list.\n",
    "        if there is no element yet in the list, it is the head element.\"\"\"\n",
    "        #if not self.last_node:\n",
    "        new_node = Node(d, self.head)\n",
    "        self.head = new_node\n",
    "    \n",
    "    def get_position(self, d):\n",
    "        \"\"\"Get an element from a particular position.\n",
    "        Assume the first position is the index \"1\".\n",
    "        Return \"None\" if position is not in the list.\"\"\"\n",
    "        this_node = self.head\n",
    "        while this_node is not None:\n",
    "            if this_node.get_data() == d:\n",
    "                return d\n",
    "            elif this_node.get_next() == None:\n",
    "                return False\n",
    "            else:\n",
    "                this_node = this_node.get_next()\n",
    "        \n",
    "    def insert(head, d, position):\n",
    "        \"\"\"Insert a new node at the given position.\n",
    "        Assume the first position is \"1\".\n",
    "        Inserting at position 3 means between the 2nd and 3rd elements.\"\"\"\n",
    "        node = Node(d)\n",
    "        if not head:\n",
    "            head = node\n",
    "        elif position == 0:\n",
    "            node.next = head\n",
    "            head = node\n",
    "        else:\n",
    "            previous = None\n",
    "            current = head\n",
    "            current_position = 0\n",
    "            while (current_position < position) and current.next:\n",
    "                previous = current\n",
    "                current = current.next\n",
    "                current_position += 1\n",
    "            previous.next = node\n",
    "            node.next = current\n",
    "        return head\n",
    "\n",
    "    def delete(self, d):\n",
    "        \"\"\"Delete the first node with a given value.\"\"\"\n",
    "        this_node = self.head\n",
    "        prev_node = None\n",
    "\n",
    "        while this_node is not None:\n",
    "            if this_node.get_data() == d:\n",
    "                if prev_node is not None:\n",
    "                    prev_node.set_next(this_node.get_next())\n",
    "                else:\n",
    "                    self.head = this_node.get_next()\n",
    "                return True     # data removed\n",
    "            else:\n",
    "                prev_node = this_node\n",
    "                this_node = this_node.get_next()\n",
    "        return False # data not found"
   ]
  },
  {
   "cell_type": "code",
   "execution_count": 117,
   "metadata": {},
   "outputs": [],
   "source": [
    "# Test cases\n",
    "# Set up some Elements\n",
    "e1 = Node(1)\n",
    "e2 = Node(2)\n",
    "e3 = Node(3)\n",
    "e4 = Node(4)\n",
    "\n",
    "# Start setting up a LinkedList\n",
    "llist = LinkedList()\n",
    "llist.append(e1)\n",
    "llist.append(e2)\n",
    "llist.append(e3)\n",
    "llist.append(1)\n",
    "llist.append(2)"
   ]
  },
  {
   "cell_type": "code",
   "execution_count": 118,
   "metadata": {},
   "outputs": [
    {
     "name": "stdout",
     "output_type": "stream",
     "text": [
      "2\n"
     ]
    }
   ],
   "source": [
    "# Test if appends were correct\n",
    "# Should be 3\n",
    "print((llist.head).data)"
   ]
  },
  {
   "cell_type": "code",
   "execution_count": 119,
   "metadata": {},
   "outputs": [
    {
     "data": {
      "text/plain": [
       "1"
      ]
     },
     "execution_count": 119,
     "metadata": {},
     "output_type": "execute_result"
    }
   ],
   "source": [
    "e1.data"
   ]
  },
  {
   "cell_type": "code",
   "execution_count": 120,
   "metadata": {},
   "outputs": [
    {
     "name": "stdout",
     "output_type": "stream",
     "text": [
      "2\n"
     ]
    }
   ],
   "source": [
    "# Test get_position\n",
    "# Should also be 3\n",
    "print(llist.get_position(2))"
   ]
  },
  {
   "cell_type": "code",
   "execution_count": 121,
   "metadata": {},
   "outputs": [
    {
     "name": "stdout",
     "output_type": "stream",
     "text": [
      "4\n"
     ]
    }
   ],
   "source": [
    "# Test insert\n",
    "llist.append(4)\n",
    "# Should print 4 now\n",
    "print((llist.get_position(4)))"
   ]
  },
  {
   "cell_type": "code",
   "execution_count": 122,
   "metadata": {},
   "outputs": [
    {
     "name": "stdout",
     "output_type": "stream",
     "text": [
      "False\n",
      "2\n",
      "False\n"
     ]
    }
   ],
   "source": [
    "# Test delete\n",
    "llist.delete(1)\n",
    "# Should print 2 now\n",
    "print(llist.get_position(1))\n",
    "# Should print 4 now\n",
    "print(llist.get_position(2))\n",
    "# Should print 3 now\n",
    "print(llist.get_position(3))"
   ]
  }
 ],
 "metadata": {
  "kernelspec": {
   "display_name": "Python 3",
   "language": "python",
   "name": "python3"
  },
  "language_info": {
   "codemirror_mode": {
    "name": "ipython",
    "version": 3
   },
   "file_extension": ".py",
   "mimetype": "text/x-python",
   "name": "python",
   "nbconvert_exporter": "python",
   "pygments_lexer": "ipython3",
   "version": "3.7.0"
  },
  "varInspector": {
   "cols": {
    "lenName": 16,
    "lenType": 16,
    "lenVar": 40
   },
   "kernels_config": {
    "python": {
     "delete_cmd_postfix": "",
     "delete_cmd_prefix": "del ",
     "library": "var_list.py",
     "varRefreshCmd": "print(var_dic_list())"
    },
    "r": {
     "delete_cmd_postfix": ") ",
     "delete_cmd_prefix": "rm(",
     "library": "var_list.r",
     "varRefreshCmd": "cat(var_dic_list()) "
    }
   },
   "types_to_exclude": [
    "module",
    "function",
    "builtin_function_or_method",
    "instance",
    "_Feature"
   ],
   "window_display": false
  }
 },
 "nbformat": 4,
 "nbformat_minor": 2
}
