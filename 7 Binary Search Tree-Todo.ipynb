{
 "cells": [
  {
   "cell_type": "markdown",
   "metadata": {},
   "source": [
    "Animation: https://www.cs.usfca.edu/~galles/visualization/BST.html"
   ]
  },
  {
   "cell_type": "code",
   "execution_count": 29,
   "metadata": {},
   "outputs": [],
   "source": [
    "class Node:\n",
    "    \"\"\"\n",
    "    Tree node with left and right child and data\n",
    "    \"\"\"\n",
    "    def __init__(self, data):\n",
    "        self.data = data\n",
    "        self.leftChild = None\n",
    "        self.rightChild = None\n",
    "        \n",
    "    def get(self):\n",
    "        return self.data\n",
    "    \n",
    "    def set(self, data):\n",
    "        self.data = data\n",
    "        \n",
    "    def getschildren(self):\n",
    "        children = []\n",
    "        if (self.leftChild != None):\n",
    "            children.append(self.leftChild)\n",
    "        if (self.rightChild != None):\n",
    "            children.append(self.rightChild)\n",
    "        return children"
   ]
  },
  {
   "cell_type": "code",
   "execution_count": 30,
   "metadata": {},
   "outputs": [],
   "source": [
    "class Tree:\n",
    "    def __init__(self):\n",
    "        \"\"\"Create an empty binary search tree\"\"\"\n",
    "        self.root = None\n",
    "        \n",
    "    def setRoot(self, data):\n",
    "        self.root = Node(data)\n",
    "        \n",
    "    def insertNode(self, currentNode, data):\n",
    "        if (data <= currentNode.data):\n",
    "            if(currentNode.leftChild):\n",
    "                self.insertNode(currentNode.leftChild, data)\n",
    "            else:\n",
    "                currentNode.leftChild = Node(data)\n",
    "        elif(data > currentNode.data):\n",
    "            if(currentNode.rightChild):\n",
    "                self.insertNode(currentNode.rightChild, data)\n",
    "            else:\n",
    "                currentNode.rightChild = Node(data)            \n",
    "    \n",
    "    def insert(self, data):\n",
    "        \"\"\"Add an item in the binary search tree\"\"\"\n",
    "        if (self.root is None):\n",
    "            self.setRoot(data)\n",
    "        else:\n",
    "            self.insertNode(self.root, data)\n",
    "    \n",
    "    def findNode(self, currentNode, data):\n",
    "        \"\"\"Returns true if item is in the tree or false otherwise\"\"\"\n",
    "        if (currentNode is None):\n",
    "            return False\n",
    "        elif(data == currentNode.data):\n",
    "            return True\n",
    "        elif(data < currentNode.data):\n",
    "            return self.findNode(currentNode.leftChild, data)\n",
    "        else:\n",
    "            return self.findNode(currentNode.rightChild, data)\n",
    "    \n",
    "    def find(self, data):\n",
    "        return self.findNode(self.root, data)"
   ]
  },
  {
   "cell_type": "code",
   "execution_count": 31,
   "metadata": {},
   "outputs": [],
   "source": [
    "tree = Tree()"
   ]
  },
  {
   "cell_type": "code",
   "execution_count": 32,
   "metadata": {},
   "outputs": [],
   "source": [
    "tree.insert(30)\n",
    "tree.insert(5)\n",
    "tree.insert(50)\n",
    "tree.insert(8)\n",
    "tree.insert(3)\n",
    "tree.insert(100)\n",
    "tree.insert(40)"
   ]
  },
  {
   "cell_type": "code",
   "execution_count": 33,
   "metadata": {},
   "outputs": [
    {
     "data": {
      "text/plain": [
       "True"
      ]
     },
     "execution_count": 33,
     "metadata": {},
     "output_type": "execute_result"
    }
   ],
   "source": [
    "tree.find(8)"
   ]
  },
  {
   "cell_type": "code",
   "execution_count": 34,
   "metadata": {},
   "outputs": [
    {
     "data": {
      "text/plain": [
       "False"
      ]
     },
     "execution_count": 34,
     "metadata": {},
     "output_type": "execute_result"
    }
   ],
   "source": [
    "tree.find(9)"
   ]
  },
  {
   "cell_type": "markdown",
   "metadata": {},
   "source": [
    "## Why is the worst case time complexity of the find method only $O(n)$ and not $O(log n)$?"
   ]
  },
  {
   "cell_type": "code",
   "execution_count": null,
   "metadata": {
    "collapsed": true
   },
   "outputs": [],
   "source": [
    "# The worst case scenario is when a binary search tree is fully degenerate.\n",
    "# The height of a binary search tree is O(n). Trying to search a value in a tree,\n",
    "# that forces the search to follow the chain but fails to find the key in the tree leads to \n",
    "# checking the key against the key of every node. In this way the time complexity of a search now is O(n)"
   ]
  }
 ],
 "metadata": {
  "kernelspec": {
   "display_name": "Python 3",
   "language": "python",
   "name": "python3"
  },
  "language_info": {
   "codemirror_mode": {
    "name": "ipython",
    "version": 3
   },
   "file_extension": ".py",
   "mimetype": "text/x-python",
   "name": "python",
   "nbconvert_exporter": "python",
   "pygments_lexer": "ipython3",
   "version": "3.7.0"
  },
  "varInspector": {
   "cols": {
    "lenName": 16,
    "lenType": 16,
    "lenVar": 40
   },
   "kernels_config": {
    "python": {
     "delete_cmd_postfix": "",
     "delete_cmd_prefix": "del ",
     "library": "var_list.py",
     "varRefreshCmd": "print(var_dic_list())"
    },
    "r": {
     "delete_cmd_postfix": ") ",
     "delete_cmd_prefix": "rm(",
     "library": "var_list.r",
     "varRefreshCmd": "cat(var_dic_list()) "
    }
   },
   "types_to_exclude": [
    "module",
    "function",
    "builtin_function_or_method",
    "instance",
    "_Feature"
   ],
   "window_display": false
  }
 },
 "nbformat": 4,
 "nbformat_minor": 2
}
