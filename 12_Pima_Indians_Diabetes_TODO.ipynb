{
  "cells": [
    {
      "metadata": {},
      "cell_type": "markdown",
      "source": "# Data \n\nThe Pima Indians dataset is about the prediction of diabetes . This is a small dataset available from the UCI Machine Learning Repository. https://archive.ics.uci.edu/ml/datasets/Pima+Indians+Diabetes\n\n**Attribute Information:**\n\n1. Number of times pregnant\n2. Plasma glucose concentration a 2 hours in an oral glucose tolerance test\n3. Diastolic blood pressure (mm Hg)\n4. Triceps skin fold thickness (mm)\n5. 2-Hour serum insulin (mu U/ml)\n6. Body mass index (weight in kg/(height in m)^2)\n7. Diabetes pedigree function\n8. Age (years)\n9. Class variable (0 or 1) (diabetes mellitus)"
    },
    {
      "metadata": {
        "trusted": true
      },
      "cell_type": "code",
      "source": "# ignore warnings\nimport warnings\nwarnings.filterwarnings(\"ignore\")",
      "execution_count": 127,
      "outputs": []
    },
    {
      "metadata": {
        "trusted": true
      },
      "cell_type": "code",
      "source": "#!pip install wget\nimport wget",
      "execution_count": 128,
      "outputs": []
    },
    {
      "metadata": {
        "trusted": true
      },
      "cell_type": "code",
      "source": "# Download the data\n!wget -O pima-indians-diabetes.csv https://gist.githubusercontent.com/ktisha/c21e73a1bd1700294ef790c56c8aec1f/raw/819b69b5736821ccee93d05b51de0510bea00294/pima-indians-diabetes.csv",
      "execution_count": 129,
      "outputs": [
        {
          "output_type": "stream",
          "text": "--2019-06-06 13:24:54--  https://gist.githubusercontent.com/ktisha/c21e73a1bd1700294ef790c56c8aec1f/raw/819b69b5736821ccee93d05b51de0510bea00294/pima-indians-diabetes.csv\nResolving webproxy (webproxy)... 10.36.65.1\nConnecting to webproxy (webproxy)|10.36.65.1|:3128... connected.\nProxy request sent, awaiting response... 200 OK\nLength: 23628 (23K) [text/plain]\nSaving to: ‘pima-indians-diabetes.csv’\n\npima-indians-diabet 100%[===================>]  23.07K  --.-KB/s    in 0.04s   \n\n2019-06-06 13:24:55 (640 KB/s) - ‘pima-indians-diabetes.csv’ saved [23628/23628]\n\n",
          "name": "stdout"
        }
      ]
    },
    {
      "metadata": {
        "trusted": true
      },
      "cell_type": "code",
      "source": "# check if the data is downloaded\n%ls -l",
      "execution_count": 130,
      "outputs": [
        {
          "output_type": "stream",
          "text": "total 0\r\n-rw-r--r-- 1 nbuser nbuser   56522 Jun  6 13:24 12_Pima_Indians_Diabetes_TODO.ipynb\r\n-rw-r--r-- 1 nbuser nbuser    5166 Nov 14  2018 Advertising.csv\r\n-rw-r--r-- 1 nbuser nbuser   18079 Nov 14  2018 Auto.csv\r\n-rw-r--r-- 1 nbuser nbuser  103854 Oct 15  2018 BirthWeights.csv\r\n-rw-r--r-- 1 nbuser nbuser   34727 Nov 14  2018 Boston.csv\r\n-rw-r--r-- 1 nbuser nbuser 1064467 Nov 14  2018 Caravan.csv\r\n-rw-r--r-- 1 nbuser nbuser   21339 Nov 14  2018 Carseats.csv\r\n-rw-r--r-- 1 nbuser nbuser  101215 Oct  9  2018 ch05.ipynb\r\n-rw-r--r-- 1 nbuser nbuser  110349 Oct 15  2018 class1.ipynb\r\n-rw-r--r-- 1 nbuser nbuser   17114 Oct 17  2018 class2.ipynb\r\n-rw-r--r-- 1 nbuser nbuser   67469 Oct 24  2018 class3.ipynb\r\n-rw-r--r-- 1 nbuser nbuser   26585 Nov 14  2018 Credit.csv\r\n-rw-r--r-- 1 nbuser nbuser  462381 Nov 14  2018 Default.xlsx\r\n-rw-r--r-- 1 nbuser nbuser   19925 Nov 14  2018 Heart.csv\r\n-rw-r--r-- 1 nbuser nbuser   27687 Nov 14  2018 Hitters.csv\r\n-rw-r--r-- 1 nbuser nbuser   10205 Nov 14  2018 Hitters_X_test.csv\r\n-rw-r--r-- 1 nbuser nbuser   10041 Nov 14  2018 Hitters_X_train.csv\r\n-rw-r--r-- 1 nbuser nbuser    1271 Nov 14  2018 Hitters_y_test.csv\r\n-rw-r--r-- 1 nbuser nbuser    1281 Nov 14  2018 Hitters_y_train.csv\r\n-rw-r--r-- 1 nbuser nbuser  108263 Oct 17  2018 homework1.ipynb\r\n-rw-r--r-- 1 nbuser nbuser  100419 Oct 17  2018 homework1-solution.ipynb\r\n-rw-r--r-- 1 nbuser nbuser    2629 Oct 19  2018 homework2.ipynb\r\n-rw-r--r-- 1 nbuser nbuser  619618 Nov 14  2018 Khan_xtest.csv\r\n-rw-r--r-- 1 nbuser nbuser 1512925 Nov 14  2018 Khan_xtrain.csv\r\n-rw-r--r-- 1 nbuser nbuser     138 Nov 14  2018 Khan_ytest.csv\r\n-rw-r--r-- 1 nbuser nbuser     439 Nov 14  2018 Khan_ytrain.csv\r\n-rw-r--r-- 1 nbuser nbuser 3118789 Nov 14  2018 NCI60_X.csv\r\n-rw-r--r-- 1 nbuser nbuser     913 Nov 14  2018 NCI60_y.csv\r\n-rw-r--r-- 1 nbuser nbuser    2996 Oct 24  2018 ourFunctions.py\r\n-rw-r--r-- 1 nbuser nbuser   23628 Jun  6 13:24 pima-indians-diabetes.csv\r\n-rw-r--r-- 1 nbuser nbuser       0 Oct  9  2018 README.md\r\n-rw-r--r-- 1 nbuser nbuser 1309509 Nov 19  2018 RegressionIntro.ipynb\r\n-rw-r--r-- 1 nbuser nbuser    1840 Oct 17  2018 sampleBabies.py\r\n-rw-r--r-- 1 nbuser nbuser   78110 Nov 14  2018 Smarket.csv\r\n-rw-r--r-- 1 nbuser nbuser    1387 Nov 14  2018 USArrests.csv\r\n-rw-r--r-- 1 nbuser nbuser  491102 Nov 14  2018 Wage.csv\r\n",
          "name": "stdout"
        }
      ]
    },
    {
      "metadata": {
        "trusted": true
      },
      "cell_type": "code",
      "source": "from sklearn.model_selection import train_test_split\nfrom keras.models import Sequential\nfrom keras.layers import Dense\nimport matplotlib.pyplot as plt\nfrom matplotlib.ticker import MaxNLocator\nimport numpy as np",
      "execution_count": 131,
      "outputs": []
    },
    {
      "metadata": {
        "trusted": true
      },
      "cell_type": "code",
      "source": "# fix random seed for reproducibility\nseed = 7\nnp.random.seed(seed)",
      "execution_count": 132,
      "outputs": []
    },
    {
      "metadata": {
        "trusted": true
      },
      "cell_type": "code",
      "source": "# load pima indians dataset\ndataset = np.loadtxt(\"pima-indians-diabetes.csv\", delimiter=\",\")",
      "execution_count": 133,
      "outputs": []
    },
    {
      "metadata": {
        "trusted": true
      },
      "cell_type": "code",
      "source": "dataset[:][0]",
      "execution_count": 134,
      "outputs": [
        {
          "output_type": "execute_result",
          "execution_count": 134,
          "data": {
            "text/plain": "array([  6.   , 148.   ,  72.   ,  35.   ,   0.   ,  33.6  ,   0.627,\n        50.   ,   1.   ])"
          },
          "metadata": {}
        }
      ]
    },
    {
      "metadata": {
        "trusted": true
      },
      "cell_type": "code",
      "source": "# split dataset into input (X) and output (Y) variables\n# output is the last column\n\nX = dataset[:,[0,1,2,3,4,5,6,7]]\ny = dataset[:,[8]]",
      "execution_count": 135,
      "outputs": []
    },
    {
      "metadata": {
        "trusted": true
      },
      "cell_type": "code",
      "source": "# print the shape of x\n#\n# TODO\nX.shape",
      "execution_count": 136,
      "outputs": [
        {
          "output_type": "execute_result",
          "execution_count": 136,
          "data": {
            "text/plain": "(768, 8)"
          },
          "metadata": {}
        }
      ]
    },
    {
      "metadata": {
        "trusted": true
      },
      "cell_type": "code",
      "source": "# save to number of input dimensions in input_dim\ninput_dim = (X.shape)[1]\ninput_dim",
      "execution_count": 137,
      "outputs": [
        {
          "output_type": "execute_result",
          "execution_count": 137,
          "data": {
            "text/plain": "8"
          },
          "metadata": {}
        }
      ]
    },
    {
      "metadata": {
        "trusted": true
      },
      "cell_type": "code",
      "source": "# shape of y\n# TODO\ny.shape",
      "execution_count": 138,
      "outputs": [
        {
          "output_type": "execute_result",
          "execution_count": 138,
          "data": {
            "text/plain": "(768, 1)"
          },
          "metadata": {}
        }
      ]
    },
    {
      "metadata": {
        "trusted": true
      },
      "cell_type": "code",
      "source": "# Create training and test sets\n# Test size should be 15%\n# The test and train set should be stratified\n# use a random state (for reproducability) of 42\n# TODO\nX_train, X_test, y_train, y_test = train_test_split(X, y, test_size=0.15, random_state=42)",
      "execution_count": 139,
      "outputs": []
    },
    {
      "metadata": {
        "trusted": true
      },
      "cell_type": "code",
      "source": "# shape of X_test\n# TODO\nX_test.shape",
      "execution_count": 140,
      "outputs": [
        {
          "output_type": "execute_result",
          "execution_count": 140,
          "data": {
            "text/plain": "(116, 8)"
          },
          "metadata": {}
        }
      ]
    },
    {
      "metadata": {},
      "cell_type": "markdown",
      "source": "# Model"
    },
    {
      "metadata": {
        "trusted": true
      },
      "cell_type": "code",
      "source": "# 1. Create Sequential model\n# 2. + 3. Add two hidden dense layers with 12 and 8 nodes. Both should have Relu activations \n# 4. Add a final output layer\n# Think about how many nodes the final output layer should have and what activation function is appropiate\n# TODO\nmodel = Sequential()\nmodel.add(Dense(12, activation='relu', input_dim=8))\nmodel.add(Dense(8, activation='relu'))\nmodel.add(Dense(1))",
      "execution_count": 141,
      "outputs": []
    },
    {
      "metadata": {
        "trusted": true
      },
      "cell_type": "code",
      "source": "from keras import losses\n# Compile the model\n# Think about what loss function is appropiate\n# Use as the optimizer Adam\n# Track as an additional metric Accuracy\n# TODO\nmodel.compile(optimizer='adam', metrics=['accuracy'], loss=\"mean_squared_error\") # binary_crossentropy  mean_squared_error",
      "execution_count": 142,
      "outputs": []
    },
    {
      "metadata": {
        "trusted": true
      },
      "cell_type": "code",
      "source": "# Fit the model\n#\n# Use 15% for Validation\n# Train for 300 epochs\n# User batch size = 10\n# Save the model fitting into the variable history\n# TODO\n\nhistory = model.fit(X_train, y_train, epochs=300, batch_size=10)",
      "execution_count": 143,
      "outputs": [
        {
          "output_type": "stream",
          "text": "Epoch 1/300\n652/652 [==============================] - 0s - loss: 191.6804 - acc: 0.0307       \nEpoch 2/300\n652/652 [==============================] - 0s - loss: 8.6790 - acc: 0.1457      \nEpoch 3/300\n652/652 [==============================] - 0s - loss: 4.9599 - acc: 0.1948     \nEpoch 4/300\n652/652 [==============================] - 0s - loss: 3.3805 - acc: 0.2347     \nEpoch 5/300\n652/652 [==============================] - 0s - loss: 2.7689 - acc: 0.2669     \nEpoch 6/300\n652/652 [==============================] - 0s - loss: 2.3473 - acc: 0.2883     \nEpoch 7/300\n652/652 [==============================] - 0s - loss: 2.0150 - acc: 0.3160     \nEpoch 8/300\n652/652 [==============================] - 0s - loss: 1.6389 - acc: 0.3558     \nEpoch 9/300\n652/652 [==============================] - 0s - loss: 1.2243 - acc: 0.4218     \nEpoch 10/300\n652/652 [==============================] - 0s - loss: 1.0171 - acc: 0.4601     \nEpoch 11/300\n652/652 [==============================] - 0s - loss: 0.9558 - acc: 0.4448     \nEpoch 12/300\n652/652 [==============================] - 0s - loss: 0.8849 - acc: 0.4923     \nEpoch 13/300\n652/652 [==============================] - 0s - loss: 0.8481 - acc: 0.4571     \nEpoch 14/300\n652/652 [==============================] - 0s - loss: 0.8134 - acc: 0.4724     \nEpoch 15/300\n652/652 [==============================] - 0s - loss: 0.7602 - acc: 0.4755     \nEpoch 16/300\n652/652 [==============================] - 0s - loss: 0.7634 - acc: 0.4847     \nEpoch 17/300\n652/652 [==============================] - 0s - loss: 0.6838 - acc: 0.5000     \nEpoch 18/300\n652/652 [==============================] - 0s - loss: 0.6634 - acc: 0.4785     \nEpoch 19/300\n652/652 [==============================] - 0s - loss: 0.6390 - acc: 0.5015     \nEpoch 20/300\n652/652 [==============================] - 0s - loss: 0.5991 - acc: 0.4847     \nEpoch 21/300\n652/652 [==============================] - 0s - loss: 0.5815 - acc: 0.5230     \nEpoch 22/300\n652/652 [==============================] - 0s - loss: 0.5608 - acc: 0.5322     \nEpoch 23/300\n652/652 [==============================] - 0s - loss: 0.5467 - acc: 0.5061     \nEpoch 24/300\n652/652 [==============================] - 0s - loss: 0.5188 - acc: 0.5368     \nEpoch 25/300\n652/652 [==============================] - 0s - loss: 0.5053 - acc: 0.5322     \nEpoch 26/300\n652/652 [==============================] - 0s - loss: 0.4923 - acc: 0.5322     \nEpoch 27/300\n652/652 [==============================] - 0s - loss: 0.4599 - acc: 0.5598     \nEpoch 28/300\n652/652 [==============================] - 0s - loss: 0.4545 - acc: 0.5567     \nEpoch 29/300\n652/652 [==============================] - 0s - loss: 0.4398 - acc: 0.5690     \nEpoch 30/300\n652/652 [==============================] - 0s - loss: 0.4240 - acc: 0.5629     \nEpoch 31/300\n652/652 [==============================] - 0s - loss: 0.4298 - acc: 0.5613     \nEpoch 32/300\n652/652 [==============================] - 0s - loss: 0.3966 - acc: 0.5782     \nEpoch 33/300\n652/652 [==============================] - 0s - loss: 0.4114 - acc: 0.5736     \nEpoch 34/300\n652/652 [==============================] - 0s - loss: 0.3896 - acc: 0.5736     \nEpoch 35/300\n652/652 [==============================] - 0s - loss: 0.3657 - acc: 0.5798     \nEpoch 36/300\n652/652 [==============================] - 0s - loss: 0.3829 - acc: 0.5828     \nEpoch 37/300\n652/652 [==============================] - 0s - loss: 0.3673 - acc: 0.5905     \nEpoch 38/300\n652/652 [==============================] - 0s - loss: 0.3483 - acc: 0.6089     \nEpoch 39/300\n652/652 [==============================] - 0s - loss: 0.3525 - acc: 0.6181     \nEpoch 40/300\n652/652 [==============================] - 0s - loss: 0.3309 - acc: 0.6089     \nEpoch 41/300\n652/652 [==============================] - 0s - loss: 0.3365 - acc: 0.6104     \nEpoch 42/300\n652/652 [==============================] - 0s - loss: 0.3190 - acc: 0.6150     \nEpoch 43/300\n652/652 [==============================] - 0s - loss: 0.3145 - acc: 0.6426     \nEpoch 44/300\n652/652 [==============================] - 0s - loss: 0.3112 - acc: 0.6365     \nEpoch 45/300\n652/652 [==============================] - 0s - loss: 0.3122 - acc: 0.6350     \nEpoch 46/300\n652/652 [==============================] - 0s - loss: 0.3077 - acc: 0.6426     \nEpoch 47/300\n652/652 [==============================] - 0s - loss: 0.3047 - acc: 0.6396     \nEpoch 48/300\n652/652 [==============================] - 0s - loss: 0.2925 - acc: 0.6426     \nEpoch 49/300\n652/652 [==============================] - 0s - loss: 0.2950 - acc: 0.6396     \nEpoch 50/300\n652/652 [==============================] - 0s - loss: 0.2867 - acc: 0.6503     \nEpoch 51/300\n652/652 [==============================] - 0s - loss: 0.2926 - acc: 0.6319     \nEpoch 52/300\n652/652 [==============================] - 0s - loss: 0.2729 - acc: 0.6626     \nEpoch 53/300\n652/652 [==============================] - 0s - loss: 0.2939 - acc: 0.6580     \nEpoch 54/300\n652/652 [==============================] - 0s - loss: 0.2878 - acc: 0.6396     \nEpoch 55/300\n652/652 [==============================] - 0s - loss: 0.2637 - acc: 0.6641     \nEpoch 56/300\n652/652 [==============================] - 0s - loss: 0.2740 - acc: 0.6534     \nEpoch 57/300\n652/652 [==============================] - 0s - loss: 0.2487 - acc: 0.6733     \nEpoch 58/300\n652/652 [==============================] - 0s - loss: 0.2611 - acc: 0.6626     \nEpoch 59/300\n652/652 [==============================] - 0s - loss: 0.2497 - acc: 0.6810     \nEpoch 60/300\n652/652 [==============================] - 0s - loss: 0.2486 - acc: 0.6702     \nEpoch 61/300\n652/652 [==============================] - 0s - loss: 0.2536 - acc: 0.6610     \nEpoch 62/300\n652/652 [==============================] - 0s - loss: 0.2501 - acc: 0.6687     \nEpoch 63/300\n652/652 [==============================] - 0s - loss: 0.2670 - acc: 0.6656     \nEpoch 64/300\n652/652 [==============================] - 0s - loss: 0.2507 - acc: 0.6871     \nEpoch 65/300\n652/652 [==============================] - 0s - loss: 0.2571 - acc: 0.6549     \nEpoch 66/300\n652/652 [==============================] - 0s - loss: 0.2476 - acc: 0.6825     \nEpoch 67/300\n652/652 [==============================] - 0s - loss: 0.2284 - acc: 0.6917     \nEpoch 68/300\n652/652 [==============================] - 0s - loss: 0.2282 - acc: 0.6933     \nEpoch 69/300\n652/652 [==============================] - 0s - loss: 0.2528 - acc: 0.6641     \nEpoch 70/300\n652/652 [==============================] - 0s - loss: 0.2787 - acc: 0.6350     \nEpoch 71/300\n652/652 [==============================] - 0s - loss: 0.2799 - acc: 0.6580     \nEpoch 72/300\n652/652 [==============================] - 0s - loss: 0.2261 - acc: 0.7071     \nEpoch 73/300\n652/652 [==============================] - 0s - loss: 0.2349 - acc: 0.6871     \nEpoch 74/300\n652/652 [==============================] - 0s - loss: 0.2296 - acc: 0.6672     \nEpoch 75/300\n652/652 [==============================] - 0s - loss: 0.2315 - acc: 0.6733     \nEpoch 76/300\n652/652 [==============================] - 0s - loss: 0.2311 - acc: 0.6702     \nEpoch 77/300\n652/652 [==============================] - 0s - loss: 0.2236 - acc: 0.6641     \nEpoch 78/300\n652/652 [==============================] - 0s - loss: 0.2061 - acc: 0.7347     \nEpoch 79/300\n652/652 [==============================] - 0s - loss: 0.2192 - acc: 0.7040     \nEpoch 80/300\n652/652 [==============================] - 0s - loss: 0.2122 - acc: 0.7055     \nEpoch 81/300\n652/652 [==============================] - 0s - loss: 0.2160 - acc: 0.7009     \nEpoch 82/300\n652/652 [==============================] - 0s - loss: 0.2343 - acc: 0.6948     \nEpoch 83/300\n652/652 [==============================] - 0s - loss: 0.2155 - acc: 0.6764     \nEpoch 84/300\n652/652 [==============================] - 0s - loss: 0.2159 - acc: 0.6963     \nEpoch 85/300\n652/652 [==============================] - 0s - loss: 0.2315 - acc: 0.6856     \nEpoch 86/300\n652/652 [==============================] - 0s - loss: 0.2377 - acc: 0.6825     \nEpoch 87/300\n652/652 [==============================] - 0s - loss: 0.2445 - acc: 0.6672     \nEpoch 88/300\n652/652 [==============================] - 0s - loss: 0.2167 - acc: 0.7025     \nEpoch 89/300\n",
          "name": "stdout"
        },
        {
          "output_type": "stream",
          "text": "652/652 [==============================] - 0s - loss: 0.2248 - acc: 0.6948     \nEpoch 90/300\n652/652 [==============================] - 0s - loss: 0.2268 - acc: 0.6933     \nEpoch 91/300\n652/652 [==============================] - 0s - loss: 0.2162 - acc: 0.6917     \nEpoch 92/300\n652/652 [==============================] - 0s - loss: 0.2283 - acc: 0.6963     \nEpoch 93/300\n652/652 [==============================] - 0s - loss: 0.2148 - acc: 0.6979     \nEpoch 94/300\n652/652 [==============================] - 0s - loss: 0.2223 - acc: 0.6810     \nEpoch 95/300\n652/652 [==============================] - 0s - loss: 0.2065 - acc: 0.7009     \nEpoch 96/300\n652/652 [==============================] - 0s - loss: 0.2455 - acc: 0.6580     \nEpoch 97/300\n652/652 [==============================] - 0s - loss: 0.2189 - acc: 0.6718     \nEpoch 98/300\n652/652 [==============================] - 0s - loss: 0.2205 - acc: 0.7025     \nEpoch 99/300\n652/652 [==============================] - 0s - loss: 0.1950 - acc: 0.7301     \nEpoch 100/300\n652/652 [==============================] - 0s - loss: 0.2331 - acc: 0.6871     \nEpoch 101/300\n652/652 [==============================] - 0s - loss: 0.2723 - acc: 0.6580     \nEpoch 102/300\n652/652 [==============================] - 0s - loss: 0.2444 - acc: 0.6656     \nEpoch 103/300\n652/652 [==============================] - 0s - loss: 0.2295 - acc: 0.6779     \nEpoch 104/300\n652/652 [==============================] - 0s - loss: 0.2021 - acc: 0.7193     \nEpoch 105/300\n652/652 [==============================] - 0s - loss: 0.2209 - acc: 0.7178     \nEpoch 106/300\n652/652 [==============================] - 0s - loss: 0.1869 - acc: 0.7347     \nEpoch 107/300\n652/652 [==============================] - 0s - loss: 0.2377 - acc: 0.6840     \nEpoch 108/300\n652/652 [==============================] - 0s - loss: 0.2190 - acc: 0.6979     \nEpoch 109/300\n652/652 [==============================] - 0s - loss: 0.1969 - acc: 0.7301     \nEpoch 110/300\n652/652 [==============================] - 0s - loss: 0.2022 - acc: 0.7255     \nEpoch 111/300\n652/652 [==============================] - 0s - loss: 0.2187 - acc: 0.6994     \nEpoch 112/300\n652/652 [==============================] - 0s - loss: 0.2276 - acc: 0.6840     \nEpoch 113/300\n652/652 [==============================] - 0s - loss: 0.2306 - acc: 0.6840     \nEpoch 114/300\n652/652 [==============================] - 0s - loss: 0.1893 - acc: 0.7270     \nEpoch 115/300\n652/652 [==============================] - 0s - loss: 0.2181 - acc: 0.6887     \nEpoch 116/300\n652/652 [==============================] - 0s - loss: 0.1960 - acc: 0.7224     \nEpoch 117/300\n652/652 [==============================] - 0s - loss: 0.2099 - acc: 0.7147     \nEpoch 118/300\n652/652 [==============================] - 0s - loss: 0.2053 - acc: 0.7040     \nEpoch 119/300\n652/652 [==============================] - 0s - loss: 0.2006 - acc: 0.7009     \nEpoch 120/300\n652/652 [==============================] - 0s - loss: 0.2128 - acc: 0.6887     \nEpoch 121/300\n652/652 [==============================] - 0s - loss: 0.2153 - acc: 0.7055     \nEpoch 122/300\n652/652 [==============================] - 0s - loss: 0.1918 - acc: 0.7255     \nEpoch 123/300\n652/652 [==============================] - 0s - loss: 0.2003 - acc: 0.7239     \nEpoch 124/300\n652/652 [==============================] - 0s - loss: 0.1900 - acc: 0.7301     \nEpoch 125/300\n652/652 [==============================] - 0s - loss: 0.1974 - acc: 0.7117     \nEpoch 126/300\n652/652 [==============================] - 0s - loss: 0.2331 - acc: 0.6979     \nEpoch 127/300\n652/652 [==============================] - 0s - loss: 0.1910 - acc: 0.7377     \nEpoch 128/300\n652/652 [==============================] - 0s - loss: 0.2133 - acc: 0.6963     \nEpoch 129/300\n652/652 [==============================] - 0s - loss: 0.1877 - acc: 0.6948     \nEpoch 130/300\n652/652 [==============================] - 0s - loss: 0.2088 - acc: 0.7147     \nEpoch 131/300\n652/652 [==============================] - 0s - loss: 0.2151 - acc: 0.7101     \nEpoch 132/300\n652/652 [==============================] - 0s - loss: 0.2183 - acc: 0.7055     \nEpoch 133/300\n652/652 [==============================] - 0s - loss: 0.2241 - acc: 0.7132     \nEpoch 134/300\n652/652 [==============================] - 0s - loss: 0.1877 - acc: 0.7500     \nEpoch 135/300\n652/652 [==============================] - 0s - loss: 0.2102 - acc: 0.7071     \nEpoch 136/300\n652/652 [==============================] - 0s - loss: 0.1865 - acc: 0.7255     \nEpoch 137/300\n652/652 [==============================] - 0s - loss: 0.2627 - acc: 0.6733     \nEpoch 138/300\n652/652 [==============================] - 0s - loss: 0.1844 - acc: 0.7331     \nEpoch 139/300\n652/652 [==============================] - 0s - loss: 0.2264 - acc: 0.6994     \nEpoch 140/300\n652/652 [==============================] - 0s - loss: 0.2033 - acc: 0.7147     \nEpoch 141/300\n652/652 [==============================] - 0s - loss: 0.1715 - acc: 0.7623     \nEpoch 142/300\n652/652 [==============================] - 0s - loss: 0.1829 - acc: 0.7546     \nEpoch 143/300\n652/652 [==============================] - 0s - loss: 0.2002 - acc: 0.7071     \nEpoch 144/300\n652/652 [==============================] - 0s - loss: 0.1892 - acc: 0.7531     \nEpoch 145/300\n652/652 [==============================] - 0s - loss: 0.1822 - acc: 0.7469     \nEpoch 146/300\n652/652 [==============================] - 0s - loss: 0.1849 - acc: 0.7285     \nEpoch 147/300\n652/652 [==============================] - 0s - loss: 0.1857 - acc: 0.7439     \nEpoch 148/300\n652/652 [==============================] - 0s - loss: 0.1808 - acc: 0.7347     \nEpoch 149/300\n652/652 [==============================] - 0s - loss: 0.1731 - acc: 0.7531     \nEpoch 150/300\n652/652 [==============================] - 0s - loss: 0.1928 - acc: 0.7592     \nEpoch 151/300\n652/652 [==============================] - 0s - loss: 0.1888 - acc: 0.7316     \nEpoch 152/300\n652/652 [==============================] - 0s - loss: 0.2094 - acc: 0.7239     \nEpoch 153/300\n652/652 [==============================] - 0s - loss: 0.1833 - acc: 0.7439     \nEpoch 154/300\n652/652 [==============================] - 0s - loss: 0.1777 - acc: 0.7347     \nEpoch 155/300\n652/652 [==============================] - 0s - loss: 0.1951 - acc: 0.7347     \nEpoch 156/300\n652/652 [==============================] - 0s - loss: 0.2012 - acc: 0.7316     \nEpoch 157/300\n652/652 [==============================] - 0s - loss: 0.1847 - acc: 0.7255     \nEpoch 158/300\n652/652 [==============================] - 0s - loss: 0.1939 - acc: 0.7147     \nEpoch 159/300\n652/652 [==============================] - 0s - loss: 0.1614 - acc: 0.7546     \nEpoch 160/300\n652/652 [==============================] - 0s - loss: 0.1758 - acc: 0.7362     \nEpoch 161/300\n652/652 [==============================] - 0s - loss: 0.1750 - acc: 0.7393     \nEpoch 162/300\n652/652 [==============================] - 0s - loss: 0.1880 - acc: 0.7301     \nEpoch 163/300\n652/652 [==============================] - 0s - loss: 0.1980 - acc: 0.7209     \nEpoch 164/300\n652/652 [==============================] - 0s - loss: 0.1835 - acc: 0.7439     \nEpoch 165/300\n652/652 [==============================] - 0s - loss: 0.1695 - acc: 0.7715     \nEpoch 166/300\n652/652 [==============================] - 0s - loss: 0.1680 - acc: 0.7469     \nEpoch 167/300\n652/652 [==============================] - 0s - loss: 0.1705 - acc: 0.7531     \nEpoch 168/300\n652/652 [==============================] - 0s - loss: 0.1877 - acc: 0.7377     \nEpoch 169/300\n652/652 [==============================] - 0s - loss: 0.2070 - acc: 0.7178     \nEpoch 170/300\n652/652 [==============================] - 0s - loss: 0.1776 - acc: 0.7377     \nEpoch 171/300\n652/652 [==============================] - 0s - loss: 0.1776 - acc: 0.7439     \nEpoch 172/300\n652/652 [==============================] - 0s - loss: 0.1629 - acc: 0.7592     \nEpoch 173/300\n652/652 [==============================] - 0s - loss: 0.1827 - acc: 0.7500     \nEpoch 174/300\n652/652 [==============================] - 0s - loss: 0.1777 - acc: 0.7316     \nEpoch 175/300\n652/652 [==============================] - 0s - loss: 0.1694 - acc: 0.7531     \nEpoch 176/300\n",
          "name": "stdout"
        },
        {
          "output_type": "stream",
          "text": "652/652 [==============================] - 0s - loss: 0.1737 - acc: 0.7377     \nEpoch 177/300\n652/652 [==============================] - 0s - loss: 0.1675 - acc: 0.7500     \nEpoch 178/300\n652/652 [==============================] - 0s - loss: 0.1702 - acc: 0.7546     \nEpoch 179/300\n652/652 [==============================] - 0s - loss: 0.1772 - acc: 0.7439     \nEpoch 180/300\n652/652 [==============================] - 0s - loss: 0.1813 - acc: 0.7653     \nEpoch 181/300\n652/652 [==============================] - 0s - loss: 0.1785 - acc: 0.7408     \nEpoch 182/300\n652/652 [==============================] - 0s - loss: 0.1673 - acc: 0.7546     \nEpoch 183/300\n652/652 [==============================] - 0s - loss: 0.1853 - acc: 0.7362     \nEpoch 184/300\n652/652 [==============================] - 0s - loss: 0.1829 - acc: 0.7377     \nEpoch 185/300\n652/652 [==============================] - 0s - loss: 0.1698 - acc: 0.7515     \nEpoch 186/300\n652/652 [==============================] - 0s - loss: 0.1867 - acc: 0.7423     \nEpoch 187/300\n652/652 [==============================] - 0s - loss: 0.2230 - acc: 0.7163     \nEpoch 188/300\n652/652 [==============================] - 0s - loss: 0.1688 - acc: 0.7546     \nEpoch 189/300\n652/652 [==============================] - 0s - loss: 0.1997 - acc: 0.7270     \nEpoch 190/300\n652/652 [==============================] - 0s - loss: 0.1697 - acc: 0.7454     \nEpoch 191/300\n652/652 [==============================] - 0s - loss: 0.1732 - acc: 0.7561     \nEpoch 192/300\n652/652 [==============================] - 0s - loss: 0.1793 - acc: 0.7377     \nEpoch 193/300\n652/652 [==============================] - 0s - loss: 0.1660 - acc: 0.7485     \nEpoch 194/300\n652/652 [==============================] - 0s - loss: 0.1678 - acc: 0.7546     \nEpoch 195/300\n652/652 [==============================] - 0s - loss: 0.1703 - acc: 0.7592     \nEpoch 196/300\n652/652 [==============================] - 0s - loss: 0.1744 - acc: 0.7393     \nEpoch 197/300\n652/652 [==============================] - 0s - loss: 0.1693 - acc: 0.7623     \nEpoch 198/300\n652/652 [==============================] - 0s - loss: 0.1644 - acc: 0.7607     \nEpoch 199/300\n652/652 [==============================] - 0s - loss: 0.1691 - acc: 0.7485     \nEpoch 200/300\n652/652 [==============================] - 0s - loss: 0.1779 - acc: 0.7377     \nEpoch 201/300\n652/652 [==============================] - 0s - loss: 0.1624 - acc: 0.7500     \nEpoch 202/300\n652/652 [==============================] - 0s - loss: 0.1782 - acc: 0.7500     \nEpoch 203/300\n652/652 [==============================] - 0s - loss: 0.1899 - acc: 0.7377     \nEpoch 204/300\n652/652 [==============================] - 0s - loss: 0.1620 - acc: 0.7653     \nEpoch 205/300\n652/652 [==============================] - 0s - loss: 0.1945 - acc: 0.7255     \nEpoch 206/300\n652/652 [==============================] - 0s - loss: 0.1703 - acc: 0.7485     \nEpoch 207/300\n652/652 [==============================] - 0s - loss: 0.1707 - acc: 0.7485     \nEpoch 208/300\n652/652 [==============================] - 0s - loss: 0.1981 - acc: 0.7301     \nEpoch 209/300\n652/652 [==============================] - 0s - loss: 0.1871 - acc: 0.7224     \nEpoch 210/300\n652/652 [==============================] - 0s - loss: 0.1800 - acc: 0.7469     \nEpoch 211/300\n652/652 [==============================] - 0s - loss: 0.1759 - acc: 0.7607     \nEpoch 212/300\n652/652 [==============================] - 0s - loss: 0.1683 - acc: 0.7408     \nEpoch 213/300\n652/652 [==============================] - 0s - loss: 0.1667 - acc: 0.7546     \nEpoch 214/300\n652/652 [==============================] - 0s - loss: 0.1889 - acc: 0.7285     \nEpoch 215/300\n652/652 [==============================] - 0s - loss: 0.1735 - acc: 0.7423     \nEpoch 216/300\n652/652 [==============================] - 0s - loss: 0.1680 - acc: 0.7469     \nEpoch 217/300\n652/652 [==============================] - 0s - loss: 0.1710 - acc: 0.7439     \nEpoch 218/300\n652/652 [==============================] - 0s - loss: 0.1771 - acc: 0.7515     \nEpoch 219/300\n652/652 [==============================] - 0s - loss: 0.1675 - acc: 0.7577     \nEpoch 220/300\n652/652 [==============================] - 0s - loss: 0.1723 - acc: 0.7577     \nEpoch 221/300\n652/652 [==============================] - 0s - loss: 0.1754 - acc: 0.7577     \nEpoch 222/300\n652/652 [==============================] - 0s - loss: 0.1700 - acc: 0.7408     \nEpoch 223/300\n652/652 [==============================] - 0s - loss: 0.1676 - acc: 0.7607     \nEpoch 224/300\n652/652 [==============================] - 0s - loss: 0.1739 - acc: 0.7531     \nEpoch 225/300\n652/652 [==============================] - 0s - loss: 0.1717 - acc: 0.7607     \nEpoch 226/300\n652/652 [==============================] - 0s - loss: 0.1651 - acc: 0.7500     \nEpoch 227/300\n652/652 [==============================] - 0s - loss: 0.1851 - acc: 0.7301     \nEpoch 228/300\n652/652 [==============================] - 0s - loss: 0.1596 - acc: 0.7546     \nEpoch 229/300\n652/652 [==============================] - 0s - loss: 0.1747 - acc: 0.7515     \nEpoch 230/300\n652/652 [==============================] - 0s - loss: 0.1808 - acc: 0.7347     \nEpoch 231/300\n652/652 [==============================] - 0s - loss: 0.1647 - acc: 0.7500     \nEpoch 232/300\n652/652 [==============================] - 0s - loss: 0.1665 - acc: 0.7592     \nEpoch 233/300\n652/652 [==============================] - 0s - loss: 0.1705 - acc: 0.7485     \nEpoch 234/300\n652/652 [==============================] - 0s - loss: 0.1598 - acc: 0.7607     \nEpoch 235/300\n652/652 [==============================] - 0s - loss: 0.1572 - acc: 0.7607     \nEpoch 236/300\n652/652 [==============================] - 0s - loss: 0.1673 - acc: 0.7623     \nEpoch 237/300\n652/652 [==============================] - 0s - loss: 0.1706 - acc: 0.7592     \nEpoch 238/300\n652/652 [==============================] - 0s - loss: 0.1958 - acc: 0.7347     \nEpoch 239/300\n652/652 [==============================] - 0s - loss: 0.1751 - acc: 0.7546     \nEpoch 240/300\n652/652 [==============================] - 0s - loss: 0.1768 - acc: 0.7485     \nEpoch 241/300\n652/652 [==============================] - 0s - loss: 0.1729 - acc: 0.7546     \nEpoch 242/300\n652/652 [==============================] - 0s - loss: 0.1695 - acc: 0.7439     \nEpoch 243/300\n652/652 [==============================] - 0s - loss: 0.1684 - acc: 0.7485     \nEpoch 244/300\n652/652 [==============================] - 0s - loss: 0.1766 - acc: 0.7377     \nEpoch 245/300\n652/652 [==============================] - 0s - loss: 0.1764 - acc: 0.7423     \nEpoch 246/300\n652/652 [==============================] - 0s - loss: 0.1659 - acc: 0.7577     \nEpoch 247/300\n652/652 [==============================] - 0s - loss: 0.1623 - acc: 0.7761     \nEpoch 248/300\n652/652 [==============================] - 0s - loss: 0.1632 - acc: 0.7730     \nEpoch 249/300\n652/652 [==============================] - 0s - loss: 0.1730 - acc: 0.7592     \nEpoch 250/300\n652/652 [==============================] - 0s - loss: 0.1702 - acc: 0.7531     \nEpoch 251/300\n652/652 [==============================] - 0s - loss: 0.1617 - acc: 0.7638     \nEpoch 252/300\n652/652 [==============================] - 0s - loss: 0.1649 - acc: 0.7623     \nEpoch 253/300\n652/652 [==============================] - 0s - loss: 0.1752 - acc: 0.7515     \nEpoch 254/300\n652/652 [==============================] - 0s - loss: 0.1617 - acc: 0.7791     \nEpoch 255/300\n652/652 [==============================] - 0s - loss: 0.1720 - acc: 0.7454     \nEpoch 256/300\n652/652 [==============================] - 0s - loss: 0.1707 - acc: 0.7561     \nEpoch 257/300\n652/652 [==============================] - 0s - loss: 0.1861 - acc: 0.7285     \nEpoch 258/300\n652/652 [==============================] - 0s - loss: 0.1530 - acc: 0.7883     \nEpoch 259/300\n652/652 [==============================] - 0s - loss: 0.1687 - acc: 0.7546     \nEpoch 260/300\n652/652 [==============================] - 0s - loss: 0.1655 - acc: 0.7592     \nEpoch 261/300\n652/652 [==============================] - 0s - loss: 0.1665 - acc: 0.7715     \nEpoch 262/300\n652/652 [==============================] - 0s - loss: 0.1743 - acc: 0.7485     \nEpoch 263/300\n",
          "name": "stdout"
        },
        {
          "output_type": "stream",
          "text": "652/652 [==============================] - 0s - loss: 0.1675 - acc: 0.7699     \nEpoch 264/300\n652/652 [==============================] - 0s - loss: 0.1676 - acc: 0.7607     \nEpoch 265/300\n652/652 [==============================] - 0s - loss: 0.1662 - acc: 0.7699     \nEpoch 266/300\n652/652 [==============================] - 0s - loss: 0.1619 - acc: 0.7561     \nEpoch 267/300\n652/652 [==============================] - 0s - loss: 0.1747 - acc: 0.7577     \nEpoch 268/300\n652/652 [==============================] - 0s - loss: 0.1552 - acc: 0.7653     \nEpoch 269/300\n652/652 [==============================] - 0s - loss: 0.1929 - acc: 0.7469     \nEpoch 270/300\n652/652 [==============================] - 0s - loss: 0.1824 - acc: 0.7270     \nEpoch 271/300\n652/652 [==============================] - 0s - loss: 0.1663 - acc: 0.7377     \nEpoch 272/300\n652/652 [==============================] - 0s - loss: 0.1938 - acc: 0.7347     \nEpoch 273/300\n652/652 [==============================] - 0s - loss: 0.1680 - acc: 0.7807     \nEpoch 274/300\n652/652 [==============================] - 0s - loss: 0.1573 - acc: 0.7684     \nEpoch 275/300\n652/652 [==============================] - 0s - loss: 0.1724 - acc: 0.7454     \nEpoch 276/300\n652/652 [==============================] - 0s - loss: 0.1678 - acc: 0.7592     \nEpoch 277/300\n652/652 [==============================] - 0s - loss: 0.1637 - acc: 0.7592     \nEpoch 278/300\n652/652 [==============================] - 0s - loss: 0.1661 - acc: 0.7531     \nEpoch 279/300\n652/652 [==============================] - 0s - loss: 0.1672 - acc: 0.7684     \nEpoch 280/300\n652/652 [==============================] - 0s - loss: 0.1594 - acc: 0.7592     \nEpoch 281/300\n652/652 [==============================] - 0s - loss: 0.1669 - acc: 0.7485     \nEpoch 282/300\n652/652 [==============================] - 0s - loss: 0.1544 - acc: 0.7715     \nEpoch 283/300\n652/652 [==============================] - 0s - loss: 0.1717 - acc: 0.7730     \nEpoch 284/300\n652/652 [==============================] - 0s - loss: 0.1688 - acc: 0.7408     \nEpoch 285/300\n652/652 [==============================] - 0s - loss: 0.1863 - acc: 0.7316     \nEpoch 286/300\n652/652 [==============================] - 0s - loss: 0.1750 - acc: 0.7454     \nEpoch 287/300\n652/652 [==============================] - 0s - loss: 0.1549 - acc: 0.7607     \nEpoch 288/300\n652/652 [==============================] - 0s - loss: 0.1618 - acc: 0.7623     \nEpoch 289/300\n652/652 [==============================] - 0s - loss: 0.1541 - acc: 0.7776     \nEpoch 290/300\n652/652 [==============================] - 0s - loss: 0.1591 - acc: 0.7730     \nEpoch 291/300\n652/652 [==============================] - 0s - loss: 0.1485 - acc: 0.7730     \nEpoch 292/300\n652/652 [==============================] - 0s - loss: 0.1580 - acc: 0.7715     \nEpoch 293/300\n652/652 [==============================] - 0s - loss: 0.1697 - acc: 0.7454     \nEpoch 294/300\n652/652 [==============================] - 0s - loss: 0.1660 - acc: 0.7745     \nEpoch 295/300\n652/652 [==============================] - 0s - loss: 0.1571 - acc: 0.7684     \nEpoch 296/300\n652/652 [==============================] - 0s - loss: 0.1683 - acc: 0.7531     \nEpoch 297/300\n652/652 [==============================] - 0s - loss: 0.1647 - acc: 0.7653     \nEpoch 298/300\n652/652 [==============================] - 0s - loss: 0.1621 - acc: 0.7577     \nEpoch 299/300\n652/652 [==============================] - 0s - loss: 0.1647 - acc: 0.7531     \nEpoch 300/300\n652/652 [==============================] - 0s - loss: 0.1587 - acc: 0.7653     \n",
          "name": "stdout"
        }
      ]
    },
    {
      "metadata": {
        "trusted": true
      },
      "cell_type": "code",
      "source": "# list all data in history\nprint(history.history.keys())",
      "execution_count": 144,
      "outputs": [
        {
          "output_type": "stream",
          "text": "dict_keys(['acc', 'loss'])\n",
          "name": "stdout"
        }
      ]
    },
    {
      "metadata": {
        "trusted": true
      },
      "cell_type": "code",
      "source": "#score = model.evaluate(X_test, y_test, batch_size=10)",
      "execution_count": 145,
      "outputs": []
    },
    {
      "metadata": {
        "trusted": true
      },
      "cell_type": "code",
      "source": "# Plot the History of Training Loss (history.history['loss']) and the Validation Loss (history.history['val_loss'])\n# Title should be \"Model Loss\"\n# x label: \"Loss\"\n# y label: \"Epoch\"\n# Legend: \"Train\" and \"Validation\"\n# TODO",
      "execution_count": 146,
      "outputs": []
    },
    {
      "metadata": {
        "trusted": true
      },
      "cell_type": "code",
      "source": "# Plot the History of Training Accuracy (history.history['acc']) and \n# the Validation Accuracy (history.history['val_loss'])\n#\n# Title should be \"Model Accuracy\"\n# x label: \"Accuracy\"\n# y label: \"Epoch\"\n# Legend: \"Train\" and \"Validation\"\n# TODO\n\nplt.plot((history.history['acc']), (history.history['loss']))\nplt.title(\"Model Loss\")\nplt.xlabel(\"Loss\")\nplt.ylabel(\"Epoch\")\nplt.legend(\"Train\", \"Validation\")\nplt.show()",
      "execution_count": 147,
      "outputs": [
        {
          "output_type": "display_data",
          "data": {
            "image/png": "[encoded data removed]",
            "text/plain": "<matplotlib.figure.Figure at 0x7f6d441b96a0>"
          },
          "metadata": {}
        }
      ]
    },
    {
      "metadata": {
        "trusted": true
      },
      "cell_type": "code",
      "source": "# Evaluate the loss and accuracy on the test data\nloss, accuracy = model.evaluate(X_test, y_test, batch_size=10)",
      "execution_count": 148,
      "outputs": [
        {
          "output_type": "stream",
          "text": "\r 10/116 [=>............................] - ETA: 1s",
          "name": "stdout"
        }
      ]
    },
    {
      "metadata": {
        "trusted": true
      },
      "cell_type": "code",
      "source": "print('Test score:', loss)\nprint('Test accuracy:', accuracy)",
      "execution_count": 149,
      "outputs": [
        {
          "output_type": "stream",
          "text": "Test score: 0.19813529864467425\nTest accuracy: 0.6896551713861269\n",
          "name": "stdout"
        }
      ]
    }
  ],
  "metadata": {
    "kernelspec": {
      "name": "python3",
      "display_name": "Python 3",
      "language": "python"
    },
    "language_info": {
      "mimetype": "text/x-python",
      "nbconvert_exporter": "python",
      "name": "python",
      "file_extension": ".py",
      "version": "3.5.4",
      "pygments_lexer": "ipython3",
      "codemirror_mode": {
        "version": 3,
        "name": "ipython"
      }
    },
    "varInspector": {
      "cols": {
        "lenName": 16,
        "lenType": 16,
        "lenVar": 40
      },
      "kernels_config": {
        "python": {
          "delete_cmd_postfix": "",
          "delete_cmd_prefix": "del ",
          "library": "var_list.py",
          "varRefreshCmd": "print(var_dic_list())"
        },
        "r": {
          "delete_cmd_postfix": ") ",
          "delete_cmd_prefix": "rm(",
          "library": "var_list.r",
          "varRefreshCmd": "cat(var_dic_list()) "
        }
      },
      "types_to_exclude": [
        "module",
        "function",
        "builtin_function_or_method",
        "instance",
        "_Feature"
      ],
      "window_display": false
    }
  },
  "nbformat": 4,
  "nbformat_minor": 2
}