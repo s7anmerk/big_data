{
 "cells": [
  {
   "cell_type": "code",
   "execution_count": 59,
   "metadata": {},
   "outputs": [],
   "source": [
    "import random\n",
    "random.seed(1000)\n",
    "import matplotlib.pyplot as plt"
   ]
  },
  {
   "cell_type": "markdown",
   "metadata": {},
   "source": [
    "# Create Data"
   ]
  },
  {
   "cell_type": "code",
   "execution_count": 60,
   "metadata": {},
   "outputs": [],
   "source": [
    "# number of elements in list\n",
    "n = 50\n",
    "\n",
    "# list of unsorted items\n",
    "items = [int(random.random()*n) for _ in range(n)]\n",
    "\n",
    "# value to be searched in list\n",
    "value = int(random.random()*n)\n",
    "\n",
    "# sorted list \n",
    "sorted_items = sorted(items)"
   ]
  },
  {
   "cell_type": "markdown",
   "metadata": {},
   "source": [
    "# Find Value in Unsorted List with Linear Search\n",
    "\n",
    "Animation: https://yongdanielliang.github.io/animation/web/LinearSearchNew.html"
   ]
  },
  {
   "cell_type": "code",
   "execution_count": 61,
   "metadata": {},
   "outputs": [],
   "source": [
    "def get_item(items, index):\n",
    "    \"\"\"value of of an item in a list based on the index of the value\n",
    "        args:\n",
    "            - items: List of items\n",
    "            - index: index of the requested item\n",
    "        return:\n",
    "            - value of the requested item\n",
    "    \"\"\"\n",
    "    if index == -1:\n",
    "        print(\"Not in the list\")\n",
    "        return None\n",
    "    else:\n",
    "        return items[index] "
   ]
  },
  {
   "cell_type": "code",
   "execution_count": 62,
   "metadata": {},
   "outputs": [],
   "source": [
    "def find_element(items, value):\n",
    "    \"\"\"Linear search for a value in a list of items\n",
    "        args:\n",
    "            - items: unsorted list of items\n",
    "            - value: searched value\n",
    "        return:\n",
    "            - index of value or -1 if not in list\n",
    "    \"\"\"\n",
    "    # TODO\n",
    "    for elem in items:\n",
    "        if elem == value:\n",
    "            return value\n",
    "        else:\n",
    "            pass\n",
    "    #pass"
   ]
  },
  {
   "cell_type": "code",
   "execution_count": 63,
   "metadata": {},
   "outputs": [
    {
     "name": "stdout",
     "output_type": "stream",
     "text": [
      "14\n"
     ]
    }
   ],
   "source": [
    "index = find_element(items, value)\n",
    "print(index)"
   ]
  },
  {
   "cell_type": "code",
   "execution_count": 64,
   "metadata": {
    "scrolled": true
   },
   "outputs": [
    {
     "name": "stdout",
     "output_type": "stream",
     "text": [
      "14\n",
      "22\n"
     ]
    },
    {
     "data": {
      "text/plain": [
       "22"
      ]
     },
     "execution_count": 64,
     "metadata": {},
     "output_type": "execute_result"
    }
   ],
   "source": [
    "print(value)\n",
    "print(items[index])\n",
    "get_item(items, index)"
   ]
  },
  {
   "cell_type": "markdown",
   "metadata": {},
   "source": [
    "### Question: What is the time complexity of searching for a value in an unsorted list?"
   ]
  },
  {
   "cell_type": "code",
   "execution_count": null,
   "metadata": {},
   "outputs": [],
   "source": [
    "# log(n)"
   ]
  },
  {
   "cell_type": "markdown",
   "metadata": {},
   "source": [
    "# Find Value in Sorted list with Binary Search"
   ]
  },
  {
   "cell_type": "markdown",
   "metadata": {},
   "source": [
    "Animation: https://yongdanielliang.github.io/animation/web/BinarySearchNew.html"
   ]
  },
  {
   "cell_type": "code",
   "execution_count": 65,
   "metadata": {},
   "outputs": [],
   "source": [
    "def find_sorted(items, value):\n",
    "    \"\"\"Bineary search for a value in a list of sorted items\n",
    "        args:\n",
    "            - items: sorted list of items\n",
    "            - value: searched value\n",
    "        return:\n",
    "            - index of value or -1 if not in list\n",
    "    \"\"\"\n",
    "    # TODO\n",
    "    #def search(lst, target):\n",
    "    min = 0\n",
    "    max = len(items) #- 1\n",
    "    avg = (min + max) // 2  \n",
    "    while (min < max):\n",
    "        if (items[avg] == value):\n",
    "            return avg\n",
    "        elif (items[avg] < value):\n",
    "            return avg + 1 + find_sorted(items[avg+1:], value)\n",
    "        else:\n",
    "            return find_sorted(items[:avg], value)\n",
    "\n",
    "    # avg may be a partial offset so no need to print it here\n",
    "    # print \"The location of the number in the array is\", avg \n",
    "    return avg\n",
    "    #pass"
   ]
  },
  {
   "cell_type": "code",
   "execution_count": 66,
   "metadata": {},
   "outputs": [
    {
     "data": {
      "text/plain": [
       "50"
      ]
     },
     "execution_count": 66,
     "metadata": {},
     "output_type": "execute_result"
    }
   ],
   "source": [
    "value = n+1 # a value that is not in the list so that we get the worst case time\n",
    "find_sorted(sorted_items, value)"
   ]
  },
  {
   "cell_type": "code",
   "execution_count": 67,
   "metadata": {},
   "outputs": [
    {
     "data": {
      "text/plain": [
       "50"
      ]
     },
     "execution_count": 67,
     "metadata": {},
     "output_type": "execute_result"
    }
   ],
   "source": [
    "n = 100\n",
    "items = [int(random.random()*n) for _ in range(n)]\n",
    "value = n+1 \n",
    "find_sorted(sorted_items, value)"
   ]
  },
  {
   "cell_type": "code",
   "execution_count": 68,
   "metadata": {},
   "outputs": [
    {
     "data": {
      "text/plain": [
       "50"
      ]
     },
     "execution_count": 68,
     "metadata": {},
     "output_type": "execute_result"
    }
   ],
   "source": [
    "n = 200\n",
    "items = [int(random.random()*n) for _ in range(n)]\n",
    "value = n+1 \n",
    "find_sorted(sorted_items, value)"
   ]
  },
  {
   "cell_type": "markdown",
   "metadata": {},
   "source": [
    "### Question: What is the time complexity of binary search?"
   ]
  },
  {
   "cell_type": "code",
   "execution_count": null,
   "metadata": {
    "collapsed": true
   },
   "outputs": [],
   "source": [
    "# How many times do we need to divide by 2 until with have only one element?\n",
    "\n",
    "#n/(2k)=1\n",
    "\n",
    "#2k=n\n",
    "\n",
    "# take log in both sides\n",
    "\n",
    "#k=log2n\n",
    "\n",
    "#In the worst case, time complexity of binary search algorithm is log(n)."
   ]
  }
 ],
 "metadata": {
  "kernelspec": {
   "display_name": "Python 3",
   "language": "python",
   "name": "python3"
  },
  "language_info": {
   "codemirror_mode": {
    "name": "ipython",
    "version": 3
   },
   "file_extension": ".py",
   "mimetype": "text/x-python",
   "name": "python",
   "nbconvert_exporter": "python",
   "pygments_lexer": "ipython3",
   "version": "3.7.0"
  },
  "varInspector": {
   "cols": {
    "lenName": 16,
    "lenType": 16,
    "lenVar": 40
   },
   "kernels_config": {
    "python": {
     "delete_cmd_postfix": "",
     "delete_cmd_prefix": "del ",
     "library": "var_list.py",
     "varRefreshCmd": "print(var_dic_list())"
    },
    "r": {
     "delete_cmd_postfix": ") ",
     "delete_cmd_prefix": "rm(",
     "library": "var_list.r",
     "varRefreshCmd": "cat(var_dic_list()) "
    }
   },
   "oldHeight": 123.2,
   "position": {
    "height": "40px",
    "left": "1012.5px",
    "right": "20px",
    "top": "120px",
    "width": "250px"
   },
   "types_to_exclude": [
    "module",
    "function",
    "builtin_function_or_method",
    "instance",
    "_Feature"
   ],
   "varInspector_section_display": "none",
   "window_display": false
  }
 },
 "nbformat": 4,
 "nbformat_minor": 2
}
