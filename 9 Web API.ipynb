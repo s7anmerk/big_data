{
 "cells": [
  {
   "cell_type": "markdown",
   "metadata": {},
   "source": [
    "# Web APIs\n",
    "\n",
    "## 1. Consuming Web APIs\n",
    "\n",
    "(Partially adapted from https://www.dataquest.io/blog/python-api-tutorial/)\n",
    "\n",
    "* https://randomuser.me/ is a random user generator \n",
    "*\tIt has an API. Go to https://api.randomuser.me/ with your browser\n",
    "*\tYou get a JSON (JavaScript Object Notation) back. A JSON is similar to a Python dictionary.  \n",
    "*  Refresh the browser\n",
    "*\tYou can add query parameters. They are added to the URL with a ? . You then add then the parameter name = the value. More the one parameter are connected with a & e.g.\n",
    "\thttp://api.open-notify.org/iss-pass.json?lat=37.78&lon=-122.41\n",
    "\n",
    "*\t Go the documentation https://randomuser.me/documentation and check how you can get multiple users and to specify constraints on the output\n",
    "*\tGo to your browser and add parameters to https://api.randomuser.me/ so that you get 5 results of only males from the US\n",
    "\n",
    "Enter the URL of your solution:"
   ]
  },
  {
   "cell_type": "code",
   "execution_count": 3,
   "metadata": {},
   "outputs": [],
   "source": [
    "# get 5 results of only males from the US\n",
    "# Enter the URL of your solution:\n",
    "url = \"https://randomuser.me/api/?gender=male&nat=us&results=5\""
   ]
  },
  {
   "cell_type": "markdown",
   "metadata": {},
   "source": [
    "* You can also get the data from the command line. Open the command line and write\n",
    "\n",
    "```bash\n",
    "curl -s https://api.randomuser.me/\n",
    "```\n",
    "\n",
    "You can also run Bash commands directly in your Jupyter Notebook with !:"
   ]
  },
  {
   "cell_type": "code",
   "execution_count": 4,
   "metadata": {},
   "outputs": [
    {
     "name": "stdout",
     "output_type": "stream",
     "text": [
      "{\"results\":[{\"gender\":\"female\",\"name\":{\"title\":\"ms\",\"first\":\"marie\",\"last\":\"mortensen\"},\"location\":{\"street\":\"2446 tornskadevej\",\"city\":\"brondby\",\"state\":\"hovedstaden\",\"postcode\":41956,\"coordinates\":{\"latitude\":\"-34.0990\",\"longitude\":\"112.5215\"},\"timezone\":{\"offset\":\"+9:00\",\"description\":\"Tokyo, Seoul, Osaka, Sapporo, Yakutsk\"}},\"email\":\"marie.mortensen@example.com\",\"login\":{\"uuid\":\"a8ee3e24-55d0-4613-a9a0-70bf9b8e7845\",\"username\":\"beautifulkoala138\",\"password\":\"olympia\",\"salt\":\"w3bzgn3J\",\"md5\":\"5dc7859fb8f144c625e9b815d7c96836\",\"sha1\":\"af579670b7c5522dbc43d8564789ee65e6fe0442\",\"sha256\":\"8c0a738a90d3c627c6b554bbacfe24a994087efcde4b43eb895d98ef88eb1ce0\"},\"dob\":{\"date\":\"1981-11-21T23:35:55Z\",\"age\":37},\"registered\":{\"date\":\"2018-01-29T19:41:29Z\",\"age\":1},\"phone\":\"75945231\",\"cell\":\"50414590\",\"id\":{\"name\":\"CPR\",\"value\":\"039425-4434\"},\"picture\":{\"large\":\"https://randomuser.me/api/portraits/women/60.jpg\",\"medium\":\"https://randomuser.me/api/portraits/med/women/60.jpg\",\"thumbnail\":\"https://randomuser.me/api/portraits/thumb/women/60.jpg\"},\"nat\":\"DK\"}],\"info\":{\"seed\":\"f27730894f69e5a3\",\"results\":1,\"page\":1,\"version\":\"1.2\"}}\n"
     ]
    }
   ],
   "source": [
    "!curl -s https://api.randomuser.me/"
   ]
  },
  {
   "cell_type": "markdown",
   "metadata": {},
   "source": [
    "* Import the two libraries \n",
    "    * `requests` and \n",
    "    * `json`. \n",
    "\n",
    "You can find the documentation for the requests package here:\n",
    " http://www.python-requests.org/en/latest/ \n",
    " "
   ]
  },
  {
   "cell_type": "code",
   "execution_count": 6,
   "metadata": {},
   "outputs": [],
   "source": [
    "import requests"
   ]
  },
  {
   "cell_type": "markdown",
   "metadata": {},
   "source": [
    "* With the requests package you can call a Web API with the URL and the method get"
   ]
  },
  {
   "cell_type": "code",
   "execution_count": 7,
   "metadata": {},
   "outputs": [],
   "source": [
    "response = requests.get(\"https://api.randomuser.me/\")"
   ]
  },
  {
   "cell_type": "markdown",
   "metadata": {},
   "source": [
    "* Print the status code of the request"
   ]
  },
  {
   "cell_type": "code",
   "execution_count": 8,
   "metadata": {},
   "outputs": [
    {
     "name": "stdout",
     "output_type": "stream",
     "text": [
      "200\n"
     ]
    }
   ],
   "source": [
    "print(response.status_code)"
   ]
  },
  {
   "cell_type": "markdown",
   "metadata": {},
   "source": [
    "**The meaning of the status codes are:**\n",
    "* 200: everything went okay, and the result has been returned (if any)\n",
    "* 301: the server is redirecting you to a different endpoint. This can happen when a company switches domain names, or an endpoint name is changed.\n",
    "* 401: the server thinks you're not authenticated. This happens when you don't send the right credentials to access an API.\n",
    "* 400: the server thinks you made a bad request. This can happen when you don't send along the right data, among other things.\n",
    "* 403: the resource you're trying to access is forbidden – you don't have the right permissions to see it.\n",
    "* 404: the resource you tried to access wasn't found on the server.\n"
   ]
  },
  {
   "cell_type": "markdown",
   "metadata": {},
   "source": [
    "You can specify the query parameters for a URL with a Python dictionary like this:\n",
    "```python\n",
    "parameters = {\"lat\": 37.78, \"lon\": -122.41}\n",
    "```\n",
    "\n",
    "And pass the parameter to the request like this\n",
    "```python\n",
    "response = requests.get(\"http://api.open-notify.org/iss-pass.json\", params=parameters)\n",
    "```\n",
    "This is the same as \n",
    "```python\n",
    "response = requests.get(\"http://api.open-notify.org/iss-pass.json?lat=37.78&lon=-122.41\")\n",
    "```\n",
    "\n",
    "Alternatively you could build also the URL with the parameters by yourself with string concatenation. \n",
    "\n",
    "* Get with the request method 10 results of only males from the US.\n",
    "\n"
   ]
  },
  {
   "cell_type": "code",
   "execution_count": 15,
   "metadata": {},
   "outputs": [],
   "source": [
    "# Get with the request method 10 results of only males from the US.\n",
    "parameters = {\"gender\": \"male\", \"nat\": \"us\", \"results\": 10}\n",
    "res10males = requests.get(\"https://randomuser.me/api/\", params=parameters)"
   ]
  },
  {
   "cell_type": "markdown",
   "metadata": {},
   "source": [
    "* You can show the result of the request with the method text"
   ]
  },
  {
   "cell_type": "code",
   "execution_count": 16,
   "metadata": {
    "scrolled": true
   },
   "outputs": [
    {
     "data": {
      "text/plain": [
       "'{\"results\":[{\"gender\":\"male\",\"name\":{\"title\":\"mr\",\"first\":\"roy\",\"last\":\"gonzales\"},\"location\":{\"street\":\"5093 bruce st\",\"city\":\"stamford\",\"state\":\"ohio\",\"postcode\":13797,\"coordinates\":{\"latitude\":\"-45.7442\",\"longitude\":\"123.3011\"},\"timezone\":{\"offset\":\"-3:30\",\"description\":\"Newfoundland\"}},\"email\":\"roy.gonzales@example.com\",\"login\":{\"uuid\":\"4580db0c-a78d-4121-a1a2-07783446119b\",\"username\":\"beautifulmouse236\",\"password\":\"nuan\",\"salt\":\"UNEH2fih\",\"md5\":\"92c0a2521bad1704496471a3248e5bb3\",\"sha1\":\"21b48dc84fb43aa630120032ef71babef78e9bb2\",\"sha256\":\"2c70b7bc13bf6978b7fa4a95bc198221233b99ac737d36770f1715e981bfad43\"},\"dob\":{\"date\":\"1945-07-05T12:40:05Z\",\"age\":73},\"registered\":{\"date\":\"2010-04-02T22:46:58Z\",\"age\":9},\"phone\":\"(512)-230-0574\",\"cell\":\"(371)-504-2159\",\"id\":{\"name\":\"SSN\",\"value\":\"470-55-1062\"},\"picture\":{\"large\":\"https://randomuser.me/api/portraits/men/43.jpg\",\"medium\":\"https://randomuser.me/api/portraits/med/men/43.jpg\",\"thumbnail\":\"https://randomuser.me/api/portraits/thumb/men/43.jpg\"},\"nat\":\"US\"},{\"gender\":\"male\",\"name\":{\"title\":\"mr\",\"first\":\"byron\",\"last\":\"mills\"},\"location\":{\"street\":\"3077 ranchview dr\",\"city\":\"cape fear\",\"state\":\"south carolina\",\"postcode\":46564,\"coordinates\":{\"latitude\":\"-7.9701\",\"longitude\":\"-62.1681\"},\"timezone\":{\"offset\":\"+9:00\",\"description\":\"Tokyo, Seoul, Osaka, Sapporo, Yakutsk\"}},\"email\":\"byron.mills@example.com\",\"login\":{\"uuid\":\"b1817428-f6b1-4892-8a47-29e4a2c67ac9\",\"username\":\"ticklishmouse539\",\"password\":\"chuan\",\"salt\":\"EPWLspMr\",\"md5\":\"3874708bb23dcfc927b3edddf1e28b0f\",\"sha1\":\"9414286c36914869712d7d3eddf6ea715c2fec17\",\"sha256\":\"4cd4357dbab1ef8199849cdea98447c124b84cb35e52030ce81a6c18a65d4e43\"},\"dob\":{\"date\":\"1952-03-27T00:31:26Z\",\"age\":67},\"registered\":{\"date\":\"2012-05-27T09:37:29Z\",\"age\":6},\"phone\":\"(800)-597-6903\",\"cell\":\"(873)-795-3736\",\"id\":{\"name\":\"SSN\",\"value\":\"021-40-0992\"},\"picture\":{\"large\":\"https://randomuser.me/api/portraits/men/19.jpg\",\"medium\":\"https://randomuser.me/api/portraits/med/men/19.jpg\",\"thumbnail\":\"https://randomuser.me/api/portraits/thumb/men/19.jpg\"},\"nat\":\"US\"},{\"gender\":\"male\",\"name\":{\"title\":\"mr\",\"first\":\"adrian\",\"last\":\"clark\"},\"location\":{\"street\":\"8921 hickory creek dr\",\"city\":\"dayton\",\"state\":\"idaho\",\"postcode\":58316,\"coordinates\":{\"latitude\":\"-35.9586\",\"longitude\":\"-90.1197\"},\"timezone\":{\"offset\":\"+6:00\",\"description\":\"Almaty, Dhaka, Colombo\"}},\"email\":\"adrian.clark@example.com\",\"login\":{\"uuid\":\"943da72a-3e01-49eb-ae05-db5cf94b5a04\",\"username\":\"angrycat949\",\"password\":\"bigmike\",\"salt\":\"sbUzB3Re\",\"md5\":\"5b4679b9d76c2df00e7e9298ef2b6a66\",\"sha1\":\"461aad4b89cb93ed88a42c662b4cf9c9591b463b\",\"sha256\":\"1bc8ee91ba0d3e382d496206b44c1425386753f90c87c35ee00406cda77c3f4d\"},\"dob\":{\"date\":\"1976-10-19T00:54:46Z\",\"age\":42},\"registered\":{\"date\":\"2017-01-24T01:54:28Z\",\"age\":2},\"phone\":\"(666)-472-8272\",\"cell\":\"(908)-039-1877\",\"id\":{\"name\":\"SSN\",\"value\":\"853-05-8936\"},\"picture\":{\"large\":\"https://randomuser.me/api/portraits/men/24.jpg\",\"medium\":\"https://randomuser.me/api/portraits/med/men/24.jpg\",\"thumbnail\":\"https://randomuser.me/api/portraits/thumb/men/24.jpg\"},\"nat\":\"US\"},{\"gender\":\"male\",\"name\":{\"title\":\"mr\",\"first\":\"ted\",\"last\":\"gonzalez\"},\"location\":{\"street\":\"6606 spring st\",\"city\":\"shreveport\",\"state\":\"nevada\",\"postcode\":34164,\"coordinates\":{\"latitude\":\"-67.4991\",\"longitude\":\"-20.4998\"},\"timezone\":{\"offset\":\"+5:30\",\"description\":\"Bombay, Calcutta, Madras, New Delhi\"}},\"email\":\"ted.gonzalez@example.com\",\"login\":{\"uuid\":\"10ff3302-ce53-4384-8b67-eb1202f9e3b9\",\"username\":\"purplegoose922\",\"password\":\"test1\",\"salt\":\"WUzDJTSy\",\"md5\":\"ab06630a6d24fd1017bfbef813f66d9f\",\"sha1\":\"f09fc93174eb6643ced5fc6eb0eaf7e7b55f5bbc\",\"sha256\":\"2fc6b96c0d9d0ca4d568e417d7fa3c4be9dda24450662555bd680db9f02f97cd\"},\"dob\":{\"date\":\"1996-03-21T18:44:02Z\",\"age\":23},\"registered\":{\"date\":\"2012-11-09T04:59:11Z\",\"age\":6},\"phone\":\"(389)-258-1067\",\"cell\":\"(257)-764-7175\",\"id\":{\"name\":\"SSN\",\"value\":\"133-49-9667\"},\"picture\":{\"large\":\"https://randomuser.me/api/portraits/men/28.jpg\",\"medium\":\"https://randomuser.me/api/portraits/med/men/28.jpg\",\"thumbnail\":\"https://randomuser.me/api/portraits/thumb/men/28.jpg\"},\"nat\":\"US\"},{\"gender\":\"male\",\"name\":{\"title\":\"mr\",\"first\":\"clinton\",\"last\":\"byrd\"},\"location\":{\"street\":\"9727 cherry st\",\"city\":\"honolulu\",\"state\":\"florida\",\"postcode\":23466,\"coordinates\":{\"latitude\":\"18.7963\",\"longitude\":\"-3.1428\"},\"timezone\":{\"offset\":\"-10:00\",\"description\":\"Hawaii\"}},\"email\":\"clinton.byrd@example.com\",\"login\":{\"uuid\":\"b3e4c4f1-d05f-42db-8c85-08ef6a8e5bac\",\"username\":\"tinyrabbit919\",\"password\":\"wiseguy\",\"salt\":\"F2UohqOv\",\"md5\":\"a5a5f57c83218377a3d4adc4514ee70e\",\"sha1\":\"37e60023440a4b2441a1918819acca0e50224481\",\"sha256\":\"e188a11c1a3a17eccf6236d87d86447c280b381928da7b363c5f7abdad68173d\"},\"dob\":{\"date\":\"1977-11-05T15:08:11Z\",\"age\":41},\"registered\":{\"date\":\"2014-04-17T18:13:44Z\",\"age\":5},\"phone\":\"(987)-697-6519\",\"cell\":\"(640)-110-2370\",\"id\":{\"name\":\"SSN\",\"value\":\"020-24-0373\"},\"picture\":{\"large\":\"https://randomuser.me/api/portraits/men/33.jpg\",\"medium\":\"https://randomuser.me/api/portraits/med/men/33.jpg\",\"thumbnail\":\"https://randomuser.me/api/portraits/thumb/men/33.jpg\"},\"nat\":\"US\"},{\"gender\":\"male\",\"name\":{\"title\":\"mr\",\"first\":\"greg\",\"last\":\"schmidt\"},\"location\":{\"street\":\"138 w gray st\",\"city\":\"van alstyne\",\"state\":\"new york\",\"postcode\":23886,\"coordinates\":{\"latitude\":\"60.1345\",\"longitude\":\"20.5439\"},\"timezone\":{\"offset\":\"-12:00\",\"description\":\"Eniwetok, Kwajalein\"}},\"email\":\"greg.schmidt@example.com\",\"login\":{\"uuid\":\"4cc679bb-6ea6-4efa-85df-38d20ab49bc9\",\"username\":\"greendog690\",\"password\":\"jeep\",\"salt\":\"Cs8MQMLX\",\"md5\":\"977a2814647a0923a330be1f6bc09800\",\"sha1\":\"7ae5b8c2fb2fb1d4e9f7edc474f74025879de4d6\",\"sha256\":\"a3ce843281323de79536e7a1eba979c504f8a5330b37a4325935399946a8b353\"},\"dob\":{\"date\":\"1949-10-31T22:59:05Z\",\"age\":69},\"registered\":{\"date\":\"2014-01-31T23:07:22Z\",\"age\":5},\"phone\":\"(769)-518-7914\",\"cell\":\"(178)-815-3244\",\"id\":{\"name\":\"SSN\",\"value\":\"288-45-7821\"},\"picture\":{\"large\":\"https://randomuser.me/api/portraits/men/21.jpg\",\"medium\":\"https://randomuser.me/api/portraits/med/men/21.jpg\",\"thumbnail\":\"https://randomuser.me/api/portraits/thumb/men/21.jpg\"},\"nat\":\"US\"},{\"gender\":\"male\",\"name\":{\"title\":\"mr\",\"first\":\"mark\",\"last\":\"lee\"},\"location\":{\"street\":\"896 pockrus page rd\",\"city\":\"knoxville\",\"state\":\"florida\",\"postcode\":65873,\"coordinates\":{\"latitude\":\"-2.1003\",\"longitude\":\"90.1374\"},\"timezone\":{\"offset\":\"-4:00\",\"description\":\"Atlantic Time (Canada), Caracas, La Paz\"}},\"email\":\"mark.lee@example.com\",\"login\":{\"uuid\":\"2c82546e-eabb-4e31-9f16-228dc314a5fe\",\"username\":\"whitelion369\",\"password\":\"dragon1\",\"salt\":\"M51Tvnmv\",\"md5\":\"cfcc97fcef2820875bd076c3cfde12ba\",\"sha1\":\"669ce4a7634cec55b33aec9af25b135323af4e65\",\"sha256\":\"fbf46391548f968b5857d0e60d9d2efbb5cfea1fe13938ad321fa3999ec8bfc1\"},\"dob\":{\"date\":\"1974-11-07T01:32:15Z\",\"age\":44},\"registered\":{\"date\":\"2017-03-14T15:33:21Z\",\"age\":2},\"phone\":\"(079)-102-0801\",\"cell\":\"(064)-398-8123\",\"id\":{\"name\":\"SSN\",\"value\":\"073-60-1792\"},\"picture\":{\"large\":\"https://randomuser.me/api/portraits/men/80.jpg\",\"medium\":\"https://randomuser.me/api/portraits/med/men/80.jpg\",\"thumbnail\":\"https://randomuser.me/api/portraits/thumb/men/80.jpg\"},\"nat\":\"US\"},{\"gender\":\"male\",\"name\":{\"title\":\"mr\",\"first\":\"alberto\",\"last\":\"marshall\"},\"location\":{\"street\":\"7565 frances ct\",\"city\":\"boulder\",\"state\":\"pennsylvania\",\"postcode\":82415,\"coordinates\":{\"latitude\":\"53.2633\",\"longitude\":\"147.9191\"},\"timezone\":{\"offset\":\"+9:30\",\"description\":\"Adelaide, Darwin\"}},\"email\":\"alberto.marshall@example.com\",\"login\":{\"uuid\":\"ab5edbae-c982-4fa6-9211-45c01304705b\",\"username\":\"beautifulgorilla721\",\"password\":\"memory\",\"salt\":\"KLZ2FV24\",\"md5\":\"c2e7b915fe4a7a1b7a8a1f3f409502cf\",\"sha1\":\"84eca064408fa626f505e960d6da1721abd06cda\",\"sha256\":\"68e5262036f5b7ed5fd8af059ec641ec9040c45eed97e1c4b8df945a41d3b443\"},\"dob\":{\"date\":\"1992-01-10T13:30:18Z\",\"age\":27},\"registered\":{\"date\":\"2009-02-26T19:45:01Z\",\"age\":10},\"phone\":\"(683)-848-5960\",\"cell\":\"(932)-918-4004\",\"id\":{\"name\":\"SSN\",\"value\":\"353-52-9713\"},\"picture\":{\"large\":\"https://randomuser.me/api/portraits/men/59.jpg\",\"medium\":\"https://randomuser.me/api/portraits/med/men/59.jpg\",\"thumbnail\":\"https://randomuser.me/api/portraits/thumb/men/59.jpg\"},\"nat\":\"US\"},{\"gender\":\"male\",\"name\":{\"title\":\"mr\",\"first\":\"liam\",\"last\":\"lawson\"},\"location\":{\"street\":\"9973 robinson rd\",\"city\":\"tempe\",\"state\":\"south dakota\",\"postcode\":43528,\"coordinates\":{\"latitude\":\"-18.2795\",\"longitude\":\"30.6786\"},\"timezone\":{\"offset\":\"+6:00\",\"description\":\"Almaty, Dhaka, Colombo\"}},\"email\":\"liam.lawson@example.com\",\"login\":{\"uuid\":\"6d00ee92-74f9-4a99-8752-a1b3baf83cbf\",\"username\":\"bigkoala666\",\"password\":\"1812\",\"salt\":\"sTSHHGZt\",\"md5\":\"a55eed4bc35f4aff27d4b81da4ca452d\",\"sha1\":\"bf0b057050c7024532c9c65c742b3ea6aa894afd\",\"sha256\":\"1bb9e3497fbc25951c6df4bced7058e256baf5792ff279da380bd9d15794871d\"},\"dob\":{\"date\":\"1970-12-03T11:50:18Z\",\"age\":48},\"registered\":{\"date\":\"2002-10-12T05:03:53Z\",\"age\":16},\"phone\":\"(853)-389-2616\",\"cell\":\"(400)-989-6368\",\"id\":{\"name\":\"SSN\",\"value\":\"672-07-8196\"},\"picture\":{\"large\":\"https://randomuser.me/api/portraits/men/51.jpg\",\"medium\":\"https://randomuser.me/api/portraits/med/men/51.jpg\",\"thumbnail\":\"https://randomuser.me/api/portraits/thumb/men/51.jpg\"},\"nat\":\"US\"},{\"gender\":\"male\",\"name\":{\"title\":\"mr\",\"first\":\"carlos\",\"last\":\"hill\"},\"location\":{\"street\":\"2956 mockingbird hill\",\"city\":\"eureka\",\"state\":\"oregon\",\"postcode\":69656,\"coordinates\":{\"latitude\":\"-57.8424\",\"longitude\":\"-22.8529\"},\"timezone\":{\"offset\":\"+11:00\",\"description\":\"Magadan, Solomon Islands, New Caledonia\"}},\"email\":\"carlos.hill@example.com\",\"login\":{\"uuid\":\"1bdd2954-763d-4d69-8d32-7a841a729aed\",\"username\":\"blackgorilla964\",\"password\":\"nintendo\",\"salt\":\"oZv4H1fH\",\"md5\":\"2ef8d1c2ff9d164bf2597189599c11cb\",\"sha1\":\"67f62a477ba95c0a39b2cfba86c2fbf575edb1f4\",\"sha256\":\"4bb0a3c86eba522bb11201e9498c4edd8b214cf5417c30d6dcaa42c52b189f34\"},\"dob\":{\"date\":\"1981-08-14T21:25:33Z\",\"age\":37},\"registered\":{\"date\":\"2007-03-31T08:45:33Z\",\"age\":12},\"phone\":\"(254)-575-9761\",\"cell\":\"(479)-934-8396\",\"id\":{\"name\":\"SSN\",\"value\":\"534-24-6464\"},\"picture\":{\"large\":\"https://randomuser.me/api/portraits/men/28.jpg\",\"medium\":\"https://randomuser.me/api/portraits/med/men/28.jpg\",\"thumbnail\":\"https://randomuser.me/api/portraits/thumb/men/28.jpg\"},\"nat\":\"US\"}],\"info\":{\"seed\":\"4c8321e78c4af6da\",\"results\":10,\"page\":1,\"version\":\"1.2\"}}'"
      ]
     },
     "execution_count": 16,
     "metadata": {},
     "output_type": "execute_result"
    }
   ],
   "source": [
    "res10males.text"
   ]
  },
  {
   "cell_type": "markdown",
   "metadata": {},
   "source": [
    "* You can convert the data from JSON to a Python dictionary with the package JSON"
   ]
  },
  {
   "cell_type": "code",
   "execution_count": 36,
   "metadata": {},
   "outputs": [],
   "source": [
    "import json\n",
    "data = json.loads(res10males.text)"
   ]
  },
  {
   "cell_type": "markdown",
   "metadata": {},
   "source": [
    "* Check the type of variable data"
   ]
  },
  {
   "cell_type": "code",
   "execution_count": 37,
   "metadata": {},
   "outputs": [
    {
     "data": {
      "text/plain": [
       "dict"
      ]
     },
     "execution_count": 37,
     "metadata": {},
     "output_type": "execute_result"
    }
   ],
   "source": [
    "type(data)"
   ]
  },
  {
   "cell_type": "code",
   "execution_count": 38,
   "metadata": {},
   "outputs": [
    {
     "name": "stdout",
     "output_type": "stream",
     "text": [
      "{'info': {'page': 1,\n",
      "          'results': 10,\n",
      "          'seed': '4c8321e78c4af6da',\n",
      "          'version': '1.2'},\n",
      " 'results': [{'cell': '(371)-504-2159',\n",
      "              'dob': {'age': 73, 'date': '1945-07-05T12:40:05Z'},\n",
      "              'email': 'roy.gonzales@example.com',\n",
      "              'gender': 'male',\n",
      "              'id': {'name': 'SSN', 'value': '470-55-1062'},\n",
      "              'location': {'city': 'stamford',\n",
      "                           'coordinates': {'latitude': '-45.7442',\n",
      "                                           'longitude': '123.3011'},\n",
      "                           'postcode': 13797,\n",
      "                           'state': 'ohio',\n",
      "                           'street': '5093 bruce st',\n",
      "                           'timezone': {'description': 'Newfoundland',\n",
      "                                        'offset': '-3:30'}},\n",
      "              'login': {'md5': '92c0a2521bad1704496471a3248e5bb3',\n",
      "                        'password': 'nuan',\n",
      "                        'salt': 'UNEH2fih',\n",
      "                        'sha1': '21b48dc84fb43aa630120032ef71babef78e9bb2',\n",
      "                        'sha256': '2c70b7bc13bf6978b7fa4a95bc198221233b99ac737d36770f1715e981bfad43',\n",
      "                        'username': 'beautifulmouse236',\n",
      "                        'uuid': '4580db0c-a78d-4121-a1a2-07783446119b'},\n",
      "              'name': {'first': 'roy', 'last': 'gonzales', 'title': 'mr'},\n",
      "              'nat': 'US',\n",
      "              'phone': '(512)-230-0574',\n",
      "              'picture': {'large': 'https://randomuser.me/api/portraits/men/43.jpg',\n",
      "                          'medium': 'https://randomuser.me/api/portraits/med/men/43.jpg',\n",
      "                          'thumbnail': 'https://randomuser.me/api/portraits/thumb/men/43.jpg'},\n",
      "              'registered': {'age': 9, 'date': '2010-04-02T22:46:58Z'}},\n",
      "             {'cell': '(873)-795-3736',\n",
      "              'dob': {'age': 67, 'date': '1952-03-27T00:31:26Z'},\n",
      "              'email': 'byron.mills@example.com',\n",
      "              'gender': 'male',\n",
      "              'id': {'name': 'SSN', 'value': '021-40-0992'},\n",
      "              'location': {'city': 'cape fear',\n",
      "                           'coordinates': {'latitude': '-7.9701',\n",
      "                                           'longitude': '-62.1681'},\n",
      "                           'postcode': 46564,\n",
      "                           'state': 'south carolina',\n",
      "                           'street': '3077 ranchview dr',\n",
      "                           'timezone': {'description': 'Tokyo, Seoul, Osaka, '\n",
      "                                                       'Sapporo, Yakutsk',\n",
      "                                        'offset': '+9:00'}},\n",
      "              'login': {'md5': '3874708bb23dcfc927b3edddf1e28b0f',\n",
      "                        'password': 'chuan',\n",
      "                        'salt': 'EPWLspMr',\n",
      "                        'sha1': '9414286c36914869712d7d3eddf6ea715c2fec17',\n",
      "                        'sha256': '4cd4357dbab1ef8199849cdea98447c124b84cb35e52030ce81a6c18a65d4e43',\n",
      "                        'username': 'ticklishmouse539',\n",
      "                        'uuid': 'b1817428-f6b1-4892-8a47-29e4a2c67ac9'},\n",
      "              'name': {'first': 'byron', 'last': 'mills', 'title': 'mr'},\n",
      "              'nat': 'US',\n",
      "              'phone': '(800)-597-6903',\n",
      "              'picture': {'large': 'https://randomuser.me/api/portraits/men/19.jpg',\n",
      "                          'medium': 'https://randomuser.me/api/portraits/med/men/19.jpg',\n",
      "                          'thumbnail': 'https://randomuser.me/api/portraits/thumb/men/19.jpg'},\n",
      "              'registered': {'age': 6, 'date': '2012-05-27T09:37:29Z'}},\n",
      "             {'cell': '(908)-039-1877',\n",
      "              'dob': {'age': 42, 'date': '1976-10-19T00:54:46Z'},\n",
      "              'email': 'adrian.clark@example.com',\n",
      "              'gender': 'male',\n",
      "              'id': {'name': 'SSN', 'value': '853-05-8936'},\n",
      "              'location': {'city': 'dayton',\n",
      "                           'coordinates': {'latitude': '-35.9586',\n",
      "                                           'longitude': '-90.1197'},\n",
      "                           'postcode': 58316,\n",
      "                           'state': 'idaho',\n",
      "                           'street': '8921 hickory creek dr',\n",
      "                           'timezone': {'description': 'Almaty, Dhaka, Colombo',\n",
      "                                        'offset': '+6:00'}},\n",
      "              'login': {'md5': '5b4679b9d76c2df00e7e9298ef2b6a66',\n",
      "                        'password': 'bigmike',\n",
      "                        'salt': 'sbUzB3Re',\n",
      "                        'sha1': '461aad4b89cb93ed88a42c662b4cf9c9591b463b',\n",
      "                        'sha256': '1bc8ee91ba0d3e382d496206b44c1425386753f90c87c35ee00406cda77c3f4d',\n",
      "                        'username': 'angrycat949',\n",
      "                        'uuid': '943da72a-3e01-49eb-ae05-db5cf94b5a04'},\n",
      "              'name': {'first': 'adrian', 'last': 'clark', 'title': 'mr'},\n",
      "              'nat': 'US',\n",
      "              'phone': '(666)-472-8272',\n",
      "              'picture': {'large': 'https://randomuser.me/api/portraits/men/24.jpg',\n",
      "                          'medium': 'https://randomuser.me/api/portraits/med/men/24.jpg',\n",
      "                          'thumbnail': 'https://randomuser.me/api/portraits/thumb/men/24.jpg'},\n",
      "              'registered': {'age': 2, 'date': '2017-01-24T01:54:28Z'}},\n",
      "             {'cell': '(257)-764-7175',\n",
      "              'dob': {'age': 23, 'date': '1996-03-21T18:44:02Z'},\n",
      "              'email': 'ted.gonzalez@example.com',\n",
      "              'gender': 'male',\n",
      "              'id': {'name': 'SSN', 'value': '133-49-9667'},\n",
      "              'location': {'city': 'shreveport',\n",
      "                           'coordinates': {'latitude': '-67.4991',\n",
      "                                           'longitude': '-20.4998'},\n",
      "                           'postcode': 34164,\n",
      "                           'state': 'nevada',\n",
      "                           'street': '6606 spring st',\n",
      "                           'timezone': {'description': 'Bombay, Calcutta, '\n",
      "                                                       'Madras, New Delhi',\n",
      "                                        'offset': '+5:30'}},\n",
      "              'login': {'md5': 'ab06630a6d24fd1017bfbef813f66d9f',\n",
      "                        'password': 'test1',\n",
      "                        'salt': 'WUzDJTSy',\n",
      "                        'sha1': 'f09fc93174eb6643ced5fc6eb0eaf7e7b55f5bbc',\n",
      "                        'sha256': '2fc6b96c0d9d0ca4d568e417d7fa3c4be9dda24450662555bd680db9f02f97cd',\n",
      "                        'username': 'purplegoose922',\n",
      "                        'uuid': '10ff3302-ce53-4384-8b67-eb1202f9e3b9'},\n",
      "              'name': {'first': 'ted', 'last': 'gonzalez', 'title': 'mr'},\n",
      "              'nat': 'US',\n",
      "              'phone': '(389)-258-1067',\n",
      "              'picture': {'large': 'https://randomuser.me/api/portraits/men/28.jpg',\n",
      "                          'medium': 'https://randomuser.me/api/portraits/med/men/28.jpg',\n",
      "                          'thumbnail': 'https://randomuser.me/api/portraits/thumb/men/28.jpg'},\n",
      "              'registered': {'age': 6, 'date': '2012-11-09T04:59:11Z'}},\n",
      "             {'cell': '(640)-110-2370',\n",
      "              'dob': {'age': 41, 'date': '1977-11-05T15:08:11Z'},\n",
      "              'email': 'clinton.byrd@example.com',\n",
      "              'gender': 'male',\n",
      "              'id': {'name': 'SSN', 'value': '020-24-0373'},\n",
      "              'location': {'city': 'honolulu',\n",
      "                           'coordinates': {'latitude': '18.7963',\n",
      "                                           'longitude': '-3.1428'},\n",
      "                           'postcode': 23466,\n",
      "                           'state': 'florida',\n",
      "                           'street': '9727 cherry st',\n",
      "                           'timezone': {'description': 'Hawaii',\n",
      "                                        'offset': '-10:00'}},\n",
      "              'login': {'md5': 'a5a5f57c83218377a3d4adc4514ee70e',\n",
      "                        'password': 'wiseguy',\n",
      "                        'salt': 'F2UohqOv',\n",
      "                        'sha1': '37e60023440a4b2441a1918819acca0e50224481',\n",
      "                        'sha256': 'e188a11c1a3a17eccf6236d87d86447c280b381928da7b363c5f7abdad68173d',\n",
      "                        'username': 'tinyrabbit919',\n",
      "                        'uuid': 'b3e4c4f1-d05f-42db-8c85-08ef6a8e5bac'},\n",
      "              'name': {'first': 'clinton', 'last': 'byrd', 'title': 'mr'},\n",
      "              'nat': 'US',\n",
      "              'phone': '(987)-697-6519',\n",
      "              'picture': {'large': 'https://randomuser.me/api/portraits/men/33.jpg',\n",
      "                          'medium': 'https://randomuser.me/api/portraits/med/men/33.jpg',\n",
      "                          'thumbnail': 'https://randomuser.me/api/portraits/thumb/men/33.jpg'},\n",
      "              'registered': {'age': 5, 'date': '2014-04-17T18:13:44Z'}},\n",
      "             {'cell': '(178)-815-3244',\n",
      "              'dob': {'age': 69, 'date': '1949-10-31T22:59:05Z'},\n",
      "              'email': 'greg.schmidt@example.com',\n",
      "              'gender': 'male',\n",
      "              'id': {'name': 'SSN', 'value': '288-45-7821'},\n",
      "              'location': {'city': 'van alstyne',\n",
      "                           'coordinates': {'latitude': '60.1345',\n",
      "                                           'longitude': '20.5439'},\n",
      "                           'postcode': 23886,\n",
      "                           'state': 'new york',\n",
      "                           'street': '138 w gray st',\n",
      "                           'timezone': {'description': 'Eniwetok, Kwajalein',\n",
      "                                        'offset': '-12:00'}},\n",
      "              'login': {'md5': '977a2814647a0923a330be1f6bc09800',\n",
      "                        'password': 'jeep',\n",
      "                        'salt': 'Cs8MQMLX',\n",
      "                        'sha1': '7ae5b8c2fb2fb1d4e9f7edc474f74025879de4d6',\n",
      "                        'sha256': 'a3ce843281323de79536e7a1eba979c504f8a5330b37a4325935399946a8b353',\n",
      "                        'username': 'greendog690',\n",
      "                        'uuid': '4cc679bb-6ea6-4efa-85df-38d20ab49bc9'},\n",
      "              'name': {'first': 'greg', 'last': 'schmidt', 'title': 'mr'},\n",
      "              'nat': 'US',\n",
      "              'phone': '(769)-518-7914',\n",
      "              'picture': {'large': 'https://randomuser.me/api/portraits/men/21.jpg',\n",
      "                          'medium': 'https://randomuser.me/api/portraits/med/men/21.jpg',\n",
      "                          'thumbnail': 'https://randomuser.me/api/portraits/thumb/men/21.jpg'},\n",
      "              'registered': {'age': 5, 'date': '2014-01-31T23:07:22Z'}},\n",
      "             {'cell': '(064)-398-8123',\n",
      "              'dob': {'age': 44, 'date': '1974-11-07T01:32:15Z'},\n",
      "              'email': 'mark.lee@example.com',\n",
      "              'gender': 'male',\n",
      "              'id': {'name': 'SSN', 'value': '073-60-1792'},\n",
      "              'location': {'city': 'knoxville',\n",
      "                           'coordinates': {'latitude': '-2.1003',\n",
      "                                           'longitude': '90.1374'},\n",
      "                           'postcode': 65873,\n",
      "                           'state': 'florida',\n",
      "                           'street': '896 pockrus page rd',\n",
      "                           'timezone': {'description': 'Atlantic Time '\n",
      "                                                       '(Canada), Caracas, La '\n",
      "                                                       'Paz',\n",
      "                                        'offset': '-4:00'}},\n",
      "              'login': {'md5': 'cfcc97fcef2820875bd076c3cfde12ba',\n",
      "                        'password': 'dragon1',\n",
      "                        'salt': 'M51Tvnmv',\n",
      "                        'sha1': '669ce4a7634cec55b33aec9af25b135323af4e65',\n",
      "                        'sha256': 'fbf46391548f968b5857d0e60d9d2efbb5cfea1fe13938ad321fa3999ec8bfc1',\n",
      "                        'username': 'whitelion369',\n",
      "                        'uuid': '2c82546e-eabb-4e31-9f16-228dc314a5fe'},\n",
      "              'name': {'first': 'mark', 'last': 'lee', 'title': 'mr'},\n",
      "              'nat': 'US',\n",
      "              'phone': '(079)-102-0801',\n",
      "              'picture': {'large': 'https://randomuser.me/api/portraits/men/80.jpg',\n",
      "                          'medium': 'https://randomuser.me/api/portraits/med/men/80.jpg',\n",
      "                          'thumbnail': 'https://randomuser.me/api/portraits/thumb/men/80.jpg'},\n",
      "              'registered': {'age': 2, 'date': '2017-03-14T15:33:21Z'}},\n",
      "             {'cell': '(932)-918-4004',\n",
      "              'dob': {'age': 27, 'date': '1992-01-10T13:30:18Z'},\n",
      "              'email': 'alberto.marshall@example.com',\n",
      "              'gender': 'male',\n",
      "              'id': {'name': 'SSN', 'value': '353-52-9713'},\n",
      "              'location': {'city': 'boulder',\n",
      "                           'coordinates': {'latitude': '53.2633',\n",
      "                                           'longitude': '147.9191'},\n",
      "                           'postcode': 82415,\n",
      "                           'state': 'pennsylvania',\n",
      "                           'street': '7565 frances ct',\n",
      "                           'timezone': {'description': 'Adelaide, Darwin',\n",
      "                                        'offset': '+9:30'}},\n",
      "              'login': {'md5': 'c2e7b915fe4a7a1b7a8a1f3f409502cf',\n",
      "                        'password': 'memory',\n",
      "                        'salt': 'KLZ2FV24',\n",
      "                        'sha1': '84eca064408fa626f505e960d6da1721abd06cda',\n",
      "                        'sha256': '68e5262036f5b7ed5fd8af059ec641ec9040c45eed97e1c4b8df945a41d3b443',\n",
      "                        'username': 'beautifulgorilla721',\n",
      "                        'uuid': 'ab5edbae-c982-4fa6-9211-45c01304705b'},\n",
      "              'name': {'first': 'alberto', 'last': 'marshall', 'title': 'mr'},\n",
      "              'nat': 'US',\n",
      "              'phone': '(683)-848-5960',\n",
      "              'picture': {'large': 'https://randomuser.me/api/portraits/men/59.jpg',\n",
      "                          'medium': 'https://randomuser.me/api/portraits/med/men/59.jpg',\n",
      "                          'thumbnail': 'https://randomuser.me/api/portraits/thumb/men/59.jpg'},\n",
      "              'registered': {'age': 10, 'date': '2009-02-26T19:45:01Z'}},\n",
      "             {'cell': '(400)-989-6368',\n",
      "              'dob': {'age': 48, 'date': '1970-12-03T11:50:18Z'},\n",
      "              'email': 'liam.lawson@example.com',\n",
      "              'gender': 'male',\n",
      "              'id': {'name': 'SSN', 'value': '672-07-8196'},\n",
      "              'location': {'city': 'tempe',\n",
      "                           'coordinates': {'latitude': '-18.2795',\n",
      "                                           'longitude': '30.6786'},\n",
      "                           'postcode': 43528,\n",
      "                           'state': 'south dakota',\n",
      "                           'street': '9973 robinson rd',\n",
      "                           'timezone': {'description': 'Almaty, Dhaka, Colombo',\n",
      "                                        'offset': '+6:00'}},\n",
      "              'login': {'md5': 'a55eed4bc35f4aff27d4b81da4ca452d',\n",
      "                        'password': '1812',\n",
      "                        'salt': 'sTSHHGZt',\n",
      "                        'sha1': 'bf0b057050c7024532c9c65c742b3ea6aa894afd',\n",
      "                        'sha256': '1bb9e3497fbc25951c6df4bced7058e256baf5792ff279da380bd9d15794871d',\n",
      "                        'username': 'bigkoala666',\n",
      "                        'uuid': '6d00ee92-74f9-4a99-8752-a1b3baf83cbf'},\n",
      "              'name': {'first': 'liam', 'last': 'lawson', 'title': 'mr'},\n",
      "              'nat': 'US',\n",
      "              'phone': '(853)-389-2616',\n",
      "              'picture': {'large': 'https://randomuser.me/api/portraits/men/51.jpg',\n",
      "                          'medium': 'https://randomuser.me/api/portraits/med/men/51.jpg',\n",
      "                          'thumbnail': 'https://randomuser.me/api/portraits/thumb/men/51.jpg'},\n",
      "              'registered': {'age': 16, 'date': '2002-10-12T05:03:53Z'}},\n",
      "             {'cell': '(479)-934-8396',\n",
      "              'dob': {'age': 37, 'date': '1981-08-14T21:25:33Z'},\n",
      "              'email': 'carlos.hill@example.com',\n",
      "              'gender': 'male',\n",
      "              'id': {'name': 'SSN', 'value': '534-24-6464'},\n",
      "              'location': {'city': 'eureka',\n",
      "                           'coordinates': {'latitude': '-57.8424',\n",
      "                                           'longitude': '-22.8529'},\n",
      "                           'postcode': 69656,\n",
      "                           'state': 'oregon',\n",
      "                           'street': '2956 mockingbird hill',\n",
      "                           'timezone': {'description': 'Magadan, Solomon '\n",
      "                                                       'Islands, New Caledonia',\n",
      "                                        'offset': '+11:00'}},\n",
      "              'login': {'md5': '2ef8d1c2ff9d164bf2597189599c11cb',\n",
      "                        'password': 'nintendo',\n",
      "                        'salt': 'oZv4H1fH',\n",
      "                        'sha1': '67f62a477ba95c0a39b2cfba86c2fbf575edb1f4',\n",
      "                        'sha256': '4bb0a3c86eba522bb11201e9498c4edd8b214cf5417c30d6dcaa42c52b189f34',\n",
      "                        'username': 'blackgorilla964',\n",
      "                        'uuid': '1bdd2954-763d-4d69-8d32-7a841a729aed'},\n",
      "              'name': {'first': 'carlos', 'last': 'hill', 'title': 'mr'},\n",
      "              'nat': 'US',\n",
      "              'phone': '(254)-575-9761',\n",
      "              'picture': {'large': 'https://randomuser.me/api/portraits/men/28.jpg',\n",
      "                          'medium': 'https://randomuser.me/api/portraits/med/men/28.jpg',\n",
      "                          'thumbnail': 'https://randomuser.me/api/portraits/thumb/men/28.jpg'},\n",
      "              'registered': {'age': 12, 'date': '2007-03-31T08:45:33Z'}}]}\n"
     ]
    }
   ],
   "source": [
    "import pprint\n",
    "pp = pprint.PrettyPrinter()\n",
    "pp.pprint(data)"
   ]
  },
  {
   "cell_type": "markdown",
   "metadata": {},
   "source": [
    "* *pretty-print* (pprint) prints complex data structures like dictionary prettier.  https://docs.python.org/3/library/pprint.html "
   ]
  },
  {
   "cell_type": "code",
   "execution_count": 60,
   "metadata": {},
   "outputs": [
    {
     "name": "stdout",
     "output_type": "stream",
     "text": [
      "{'info': {'page': 1,\n",
      "          'results': 10,\n",
      "          'seed': '4c8321e78c4af6da',\n",
      "          'version': '1.2'},\n",
      " 'results': [{'cell': '(371)-504-2159',\n",
      "              'dob': {'age': 73, 'date': '1945-07-05T12:40:05Z'},\n",
      "              'email': 'roy.gonzales@example.com',\n",
      "              'gender': 'male',\n",
      "              'id': {'name': 'SSN', 'value': '470-55-1062'},\n",
      "              'location': {'city': 'stamford',\n",
      "                           'coordinates': {'latitude': '-45.7442',\n",
      "                                           'longitude': '123.3011'},\n",
      "                           'postcode': 13797,\n",
      "                           'state': 'ohio',\n",
      "                           'street': '5093 bruce st',\n",
      "                           'timezone': {'description': 'Newfoundland',\n",
      "                                        'offset': '-3:30'}},\n",
      "              'login': {'md5': '92c0a2521bad1704496471a3248e5bb3',\n",
      "                        'password': 'nuan',\n",
      "                        'salt': 'UNEH2fih',\n",
      "                        'sha1': '21b48dc84fb43aa630120032ef71babef78e9bb2',\n",
      "                        'sha256': '2c70b7bc13bf6978b7fa4a95bc198221233b99ac737d36770f1715e981bfad43',\n",
      "                        'username': 'beautifulmouse236',\n",
      "                        'uuid': '4580db0c-a78d-4121-a1a2-07783446119b'},\n",
      "              'name': {'first': 'roy', 'last': 'gonzales', 'title': 'mr'},\n",
      "              'nat': 'US',\n",
      "              'phone': '(512)-230-0574',\n",
      "              'picture': {'large': 'https://randomuser.me/api/portraits/men/43.jpg',\n",
      "                          'medium': 'https://randomuser.me/api/portraits/med/men/43.jpg',\n",
      "                          'thumbnail': 'https://randomuser.me/api/portraits/thumb/men/43.jpg'},\n",
      "              'registered': {'age': 9, 'date': '2010-04-02T22:46:58Z'}},\n",
      "             {'cell': '(873)-795-3736',\n",
      "              'dob': {'age': 67, 'date': '1952-03-27T00:31:26Z'},\n",
      "              'email': 'byron.mills@example.com',\n",
      "              'gender': 'male',\n",
      "              'id': {'name': 'SSN', 'value': '021-40-0992'},\n",
      "              'location': {'city': 'cape fear',\n",
      "                           'coordinates': {'latitude': '-7.9701',\n",
      "                                           'longitude': '-62.1681'},\n",
      "                           'postcode': 46564,\n",
      "                           'state': 'south carolina',\n",
      "                           'street': '3077 ranchview dr',\n",
      "                           'timezone': {'description': 'Tokyo, Seoul, Osaka, '\n",
      "                                                       'Sapporo, Yakutsk',\n",
      "                                        'offset': '+9:00'}},\n",
      "              'login': {'md5': '3874708bb23dcfc927b3edddf1e28b0f',\n",
      "                        'password': 'chuan',\n",
      "                        'salt': 'EPWLspMr',\n",
      "                        'sha1': '9414286c36914869712d7d3eddf6ea715c2fec17',\n",
      "                        'sha256': '4cd4357dbab1ef8199849cdea98447c124b84cb35e52030ce81a6c18a65d4e43',\n",
      "                        'username': 'ticklishmouse539',\n",
      "                        'uuid': 'b1817428-f6b1-4892-8a47-29e4a2c67ac9'},\n",
      "              'name': {'first': 'byron', 'last': 'mills', 'title': 'mr'},\n",
      "              'nat': 'US',\n",
      "              'phone': '(800)-597-6903',\n",
      "              'picture': {'large': 'https://randomuser.me/api/portraits/men/19.jpg',\n",
      "                          'medium': 'https://randomuser.me/api/portraits/med/men/19.jpg',\n",
      "                          'thumbnail': 'https://randomuser.me/api/portraits/thumb/men/19.jpg'},\n",
      "              'registered': {'age': 6, 'date': '2012-05-27T09:37:29Z'}},\n",
      "             {'cell': '(908)-039-1877',\n",
      "              'dob': {'age': 42, 'date': '1976-10-19T00:54:46Z'},\n",
      "              'email': 'adrian.clark@example.com',\n",
      "              'gender': 'male',\n",
      "              'id': {'name': 'SSN', 'value': '853-05-8936'},\n",
      "              'location': {'city': 'dayton',\n",
      "                           'coordinates': {'latitude': '-35.9586',\n",
      "                                           'longitude': '-90.1197'},\n",
      "                           'postcode': 58316,\n",
      "                           'state': 'idaho',\n",
      "                           'street': '8921 hickory creek dr',\n",
      "                           'timezone': {'description': 'Almaty, Dhaka, Colombo',\n",
      "                                        'offset': '+6:00'}},\n",
      "              'login': {'md5': '5b4679b9d76c2df00e7e9298ef2b6a66',\n",
      "                        'password': 'bigmike',\n",
      "                        'salt': 'sbUzB3Re',\n",
      "                        'sha1': '461aad4b89cb93ed88a42c662b4cf9c9591b463b',\n",
      "                        'sha256': '1bc8ee91ba0d3e382d496206b44c1425386753f90c87c35ee00406cda77c3f4d',\n",
      "                        'username': 'angrycat949',\n",
      "                        'uuid': '943da72a-3e01-49eb-ae05-db5cf94b5a04'},\n",
      "              'name': {'first': 'adrian', 'last': 'clark', 'title': 'mr'},\n",
      "              'nat': 'US',\n",
      "              'phone': '(666)-472-8272',\n",
      "              'picture': {'large': 'https://randomuser.me/api/portraits/men/24.jpg',\n",
      "                          'medium': 'https://randomuser.me/api/portraits/med/men/24.jpg',\n",
      "                          'thumbnail': 'https://randomuser.me/api/portraits/thumb/men/24.jpg'},\n",
      "              'registered': {'age': 2, 'date': '2017-01-24T01:54:28Z'}},\n",
      "             {'cell': '(257)-764-7175',\n",
      "              'dob': {'age': 23, 'date': '1996-03-21T18:44:02Z'},\n",
      "              'email': 'ted.gonzalez@example.com',\n",
      "              'gender': 'male',\n",
      "              'id': {'name': 'SSN', 'value': '133-49-9667'},\n",
      "              'location': {'city': 'shreveport',\n",
      "                           'coordinates': {'latitude': '-67.4991',\n",
      "                                           'longitude': '-20.4998'},\n",
      "                           'postcode': 34164,\n",
      "                           'state': 'nevada',\n",
      "                           'street': '6606 spring st',\n",
      "                           'timezone': {'description': 'Bombay, Calcutta, '\n",
      "                                                       'Madras, New Delhi',\n",
      "                                        'offset': '+5:30'}},\n",
      "              'login': {'md5': 'ab06630a6d24fd1017bfbef813f66d9f',\n",
      "                        'password': 'test1',\n",
      "                        'salt': 'WUzDJTSy',\n",
      "                        'sha1': 'f09fc93174eb6643ced5fc6eb0eaf7e7b55f5bbc',\n",
      "                        'sha256': '2fc6b96c0d9d0ca4d568e417d7fa3c4be9dda24450662555bd680db9f02f97cd',\n",
      "                        'username': 'purplegoose922',\n",
      "                        'uuid': '10ff3302-ce53-4384-8b67-eb1202f9e3b9'},\n",
      "              'name': {'first': 'ted', 'last': 'gonzalez', 'title': 'mr'},\n",
      "              'nat': 'US',\n",
      "              'phone': '(389)-258-1067',\n",
      "              'picture': {'large': 'https://randomuser.me/api/portraits/men/28.jpg',\n",
      "                          'medium': 'https://randomuser.me/api/portraits/med/men/28.jpg',\n",
      "                          'thumbnail': 'https://randomuser.me/api/portraits/thumb/men/28.jpg'},\n",
      "              'registered': {'age': 6, 'date': '2012-11-09T04:59:11Z'}},\n",
      "             {'cell': '(640)-110-2370',\n",
      "              'dob': {'age': 41, 'date': '1977-11-05T15:08:11Z'},\n",
      "              'email': 'clinton.byrd@example.com',\n",
      "              'gender': 'male',\n",
      "              'id': {'name': 'SSN', 'value': '020-24-0373'},\n",
      "              'location': {'city': 'honolulu',\n",
      "                           'coordinates': {'latitude': '18.7963',\n",
      "                                           'longitude': '-3.1428'},\n",
      "                           'postcode': 23466,\n",
      "                           'state': 'florida',\n",
      "                           'street': '9727 cherry st',\n",
      "                           'timezone': {'description': 'Hawaii',\n",
      "                                        'offset': '-10:00'}},\n",
      "              'login': {'md5': 'a5a5f57c83218377a3d4adc4514ee70e',\n",
      "                        'password': 'wiseguy',\n",
      "                        'salt': 'F2UohqOv',\n",
      "                        'sha1': '37e60023440a4b2441a1918819acca0e50224481',\n",
      "                        'sha256': 'e188a11c1a3a17eccf6236d87d86447c280b381928da7b363c5f7abdad68173d',\n",
      "                        'username': 'tinyrabbit919',\n",
      "                        'uuid': 'b3e4c4f1-d05f-42db-8c85-08ef6a8e5bac'},\n",
      "              'name': {'first': 'clinton', 'last': 'byrd', 'title': 'mr'},\n",
      "              'nat': 'US',\n",
      "              'phone': '(987)-697-6519',\n",
      "              'picture': {'large': 'https://randomuser.me/api/portraits/men/33.jpg',\n",
      "                          'medium': 'https://randomuser.me/api/portraits/med/men/33.jpg',\n",
      "                          'thumbnail': 'https://randomuser.me/api/portraits/thumb/men/33.jpg'},\n",
      "              'registered': {'age': 5, 'date': '2014-04-17T18:13:44Z'}},\n",
      "             {'cell': '(178)-815-3244',\n",
      "              'dob': {'age': 69, 'date': '1949-10-31T22:59:05Z'},\n",
      "              'email': 'greg.schmidt@example.com',\n",
      "              'gender': 'male',\n",
      "              'id': {'name': 'SSN', 'value': '288-45-7821'},\n",
      "              'location': {'city': 'van alstyne',\n",
      "                           'coordinates': {'latitude': '60.1345',\n",
      "                                           'longitude': '20.5439'},\n",
      "                           'postcode': 23886,\n",
      "                           'state': 'new york',\n",
      "                           'street': '138 w gray st',\n",
      "                           'timezone': {'description': 'Eniwetok, Kwajalein',\n",
      "                                        'offset': '-12:00'}},\n",
      "              'login': {'md5': '977a2814647a0923a330be1f6bc09800',\n",
      "                        'password': 'jeep',\n",
      "                        'salt': 'Cs8MQMLX',\n",
      "                        'sha1': '7ae5b8c2fb2fb1d4e9f7edc474f74025879de4d6',\n",
      "                        'sha256': 'a3ce843281323de79536e7a1eba979c504f8a5330b37a4325935399946a8b353',\n",
      "                        'username': 'greendog690',\n",
      "                        'uuid': '4cc679bb-6ea6-4efa-85df-38d20ab49bc9'},\n",
      "              'name': {'first': 'greg', 'last': 'schmidt', 'title': 'mr'},\n",
      "              'nat': 'US',\n",
      "              'phone': '(769)-518-7914',\n",
      "              'picture': {'large': 'https://randomuser.me/api/portraits/men/21.jpg',\n",
      "                          'medium': 'https://randomuser.me/api/portraits/med/men/21.jpg',\n",
      "                          'thumbnail': 'https://randomuser.me/api/portraits/thumb/men/21.jpg'},\n",
      "              'registered': {'age': 5, 'date': '2014-01-31T23:07:22Z'}},\n",
      "             {'cell': '(064)-398-8123',\n",
      "              'dob': {'age': 44, 'date': '1974-11-07T01:32:15Z'},\n",
      "              'email': 'mark.lee@example.com',\n",
      "              'gender': 'male',\n",
      "              'id': {'name': 'SSN', 'value': '073-60-1792'},\n",
      "              'location': {'city': 'knoxville',\n",
      "                           'coordinates': {'latitude': '-2.1003',\n",
      "                                           'longitude': '90.1374'},\n",
      "                           'postcode': 65873,\n",
      "                           'state': 'florida',\n",
      "                           'street': '896 pockrus page rd',\n",
      "                           'timezone': {'description': 'Atlantic Time '\n",
      "                                                       '(Canada), Caracas, La '\n",
      "                                                       'Paz',\n",
      "                                        'offset': '-4:00'}},\n",
      "              'login': {'md5': 'cfcc97fcef2820875bd076c3cfde12ba',\n",
      "                        'password': 'dragon1',\n",
      "                        'salt': 'M51Tvnmv',\n",
      "                        'sha1': '669ce4a7634cec55b33aec9af25b135323af4e65',\n",
      "                        'sha256': 'fbf46391548f968b5857d0e60d9d2efbb5cfea1fe13938ad321fa3999ec8bfc1',\n",
      "                        'username': 'whitelion369',\n",
      "                        'uuid': '2c82546e-eabb-4e31-9f16-228dc314a5fe'},\n",
      "              'name': {'first': 'mark', 'last': 'lee', 'title': 'mr'},\n",
      "              'nat': 'US',\n",
      "              'phone': '(079)-102-0801',\n",
      "              'picture': {'large': 'https://randomuser.me/api/portraits/men/80.jpg',\n",
      "                          'medium': 'https://randomuser.me/api/portraits/med/men/80.jpg',\n",
      "                          'thumbnail': 'https://randomuser.me/api/portraits/thumb/men/80.jpg'},\n",
      "              'registered': {'age': 2, 'date': '2017-03-14T15:33:21Z'}},\n",
      "             {'cell': '(932)-918-4004',\n",
      "              'dob': {'age': 27, 'date': '1992-01-10T13:30:18Z'},\n",
      "              'email': 'alberto.marshall@example.com',\n",
      "              'gender': 'male',\n",
      "              'id': {'name': 'SSN', 'value': '353-52-9713'},\n",
      "              'location': {'city': 'boulder',\n",
      "                           'coordinates': {'latitude': '53.2633',\n",
      "                                           'longitude': '147.9191'},\n",
      "                           'postcode': 82415,\n",
      "                           'state': 'pennsylvania',\n",
      "                           'street': '7565 frances ct',\n",
      "                           'timezone': {'description': 'Adelaide, Darwin',\n",
      "                                        'offset': '+9:30'}},\n",
      "              'login': {'md5': 'c2e7b915fe4a7a1b7a8a1f3f409502cf',\n",
      "                        'password': 'memory',\n",
      "                        'salt': 'KLZ2FV24',\n",
      "                        'sha1': '84eca064408fa626f505e960d6da1721abd06cda',\n",
      "                        'sha256': '68e5262036f5b7ed5fd8af059ec641ec9040c45eed97e1c4b8df945a41d3b443',\n",
      "                        'username': 'beautifulgorilla721',\n",
      "                        'uuid': 'ab5edbae-c982-4fa6-9211-45c01304705b'},\n",
      "              'name': {'first': 'alberto', 'last': 'marshall', 'title': 'mr'},\n",
      "              'nat': 'US',\n",
      "              'phone': '(683)-848-5960',\n",
      "              'picture': {'large': 'https://randomuser.me/api/portraits/men/59.jpg',\n",
      "                          'medium': 'https://randomuser.me/api/portraits/med/men/59.jpg',\n",
      "                          'thumbnail': 'https://randomuser.me/api/portraits/thumb/men/59.jpg'},\n",
      "              'registered': {'age': 10, 'date': '2009-02-26T19:45:01Z'}},\n",
      "             {'cell': '(400)-989-6368',\n",
      "              'dob': {'age': 48, 'date': '1970-12-03T11:50:18Z'},\n",
      "              'email': 'liam.lawson@example.com',\n",
      "              'gender': 'male',\n",
      "              'id': {'name': 'SSN', 'value': '672-07-8196'},\n",
      "              'location': {'city': 'tempe',\n",
      "                           'coordinates': {'latitude': '-18.2795',\n",
      "                                           'longitude': '30.6786'},\n",
      "                           'postcode': 43528,\n",
      "                           'state': 'south dakota',\n",
      "                           'street': '9973 robinson rd',\n",
      "                           'timezone': {'description': 'Almaty, Dhaka, Colombo',\n",
      "                                        'offset': '+6:00'}},\n",
      "              'login': {'md5': 'a55eed4bc35f4aff27d4b81da4ca452d',\n",
      "                        'password': '1812',\n",
      "                        'salt': 'sTSHHGZt',\n",
      "                        'sha1': 'bf0b057050c7024532c9c65c742b3ea6aa894afd',\n",
      "                        'sha256': '1bb9e3497fbc25951c6df4bced7058e256baf5792ff279da380bd9d15794871d',\n",
      "                        'username': 'bigkoala666',\n",
      "                        'uuid': '6d00ee92-74f9-4a99-8752-a1b3baf83cbf'},\n",
      "              'name': {'first': 'liam', 'last': 'lawson', 'title': 'mr'},\n",
      "              'nat': 'US',\n",
      "              'phone': '(853)-389-2616',\n",
      "              'picture': {'large': 'https://randomuser.me/api/portraits/men/51.jpg',\n",
      "                          'medium': 'https://randomuser.me/api/portraits/med/men/51.jpg',\n",
      "                          'thumbnail': 'https://randomuser.me/api/portraits/thumb/men/51.jpg'},\n",
      "              'registered': {'age': 16, 'date': '2002-10-12T05:03:53Z'}},\n",
      "             {'cell': '(479)-934-8396',\n",
      "              'dob': {'age': 37, 'date': '1981-08-14T21:25:33Z'},\n",
      "              'email': 'carlos.hill@example.com',\n",
      "              'gender': 'male',\n",
      "              'id': {'name': 'SSN', 'value': '534-24-6464'},\n",
      "              'location': {'city': 'eureka',\n",
      "                           'coordinates': {'latitude': '-57.8424',\n",
      "                                           'longitude': '-22.8529'},\n",
      "                           'postcode': 69656,\n",
      "                           'state': 'oregon',\n",
      "                           'street': '2956 mockingbird hill',\n",
      "                           'timezone': {'description': 'Magadan, Solomon '\n",
      "                                                       'Islands, New Caledonia',\n",
      "                                        'offset': '+11:00'}},\n",
      "              'login': {'md5': '2ef8d1c2ff9d164bf2597189599c11cb',\n",
      "                        'password': 'nintendo',\n",
      "                        'salt': 'oZv4H1fH',\n",
      "                        'sha1': '67f62a477ba95c0a39b2cfba86c2fbf575edb1f4',\n",
      "                        'sha256': '4bb0a3c86eba522bb11201e9498c4edd8b214cf5417c30d6dcaa42c52b189f34',\n",
      "                        'username': 'blackgorilla964',\n",
      "                        'uuid': '1bdd2954-763d-4d69-8d32-7a841a729aed'},\n",
      "              'name': {'first': 'carlos', 'last': 'hill', 'title': 'mr'},\n",
      "              'nat': 'US',\n",
      "              'phone': '(254)-575-9761',\n",
      "              'picture': {'large': 'https://randomuser.me/api/portraits/men/28.jpg',\n",
      "                          'medium': 'https://randomuser.me/api/portraits/med/men/28.jpg',\n",
      "                          'thumbnail': 'https://randomuser.me/api/portraits/thumb/men/28.jpg'},\n",
      "              'registered': {'age': 12, 'date': '2007-03-31T08:45:33Z'}}]}\n"
     ]
    }
   ],
   "source": [
    "pprint(data)"
   ]
  },
  {
   "cell_type": "markdown",
   "metadata": {},
   "source": [
    "* Loop through the dictionary and print all first names"
   ]
  },
  {
   "cell_type": "code",
   "execution_count": 111,
   "metadata": {},
   "outputs": [
    {
     "name": "stdout",
     "output_type": "stream",
     "text": [
      "<class 'dict'>\n",
      "roy\n",
      "byron\n",
      "adrian\n",
      "ted\n",
      "clinton\n",
      "greg\n",
      "mark\n",
      "alberto\n",
      "liam\n",
      "carlos\n"
     ]
    }
   ],
   "source": [
    "list1 = data['results']\n",
    "print(type(list1[0]))\n",
    "for elem in list1:\n",
    "    name = elem.get('name')\n",
    "    print(name.get('first'))"
   ]
  },
  {
   "cell_type": "markdown",
   "metadata": {},
   "source": [
    "* Get all astronauts who are right now in space. You get the information about the Web APU from here  http://open-notify.org/Open-Notify-API/People-In-Space/ "
   ]
  },
  {
   "cell_type": "code",
   "execution_count": 115,
   "metadata": {},
   "outputs": [
    {
     "name": "stdout",
     "output_type": "stream",
     "text": [
      "('{\"message\": \"success\", \"number\": 6, \"people\": [{\"craft\": \"ISS\", \"name\": '\n",
      " '\"Oleg Kononenko\"}, {\"craft\": \"ISS\", \"name\": \"David Saint-Jacques\"}, '\n",
      " '{\"craft\": \"ISS\", \"name\": \"Anne McClain\"}, {\"craft\": \"ISS\", \"name\": \"Alexey '\n",
      " 'Ovchinin\"}, {\"craft\": \"ISS\", \"name\": \"Nick Hague\"}, {\"craft\": \"ISS\", \"name\": '\n",
      " '\"Christina Koch\"}]}')\n"
     ]
    }
   ],
   "source": [
    "astronauts = requests.get(\"http://api.open-notify.org/astros.json\")\n",
    "pprint(astronauts.text)"
   ]
  },
  {
   "cell_type": "markdown",
   "metadata": {},
   "source": [
    "* Print the number of people that are right now in space"
   ]
  },
  {
   "cell_type": "code",
   "execution_count": 129,
   "metadata": {},
   "outputs": [
    {
     "name": "stdout",
     "output_type": "stream",
     "text": [
      "<class 'requests.models.Response'>\n",
      "6\n"
     ]
    }
   ],
   "source": [
    "print(type(astronauts))\n",
    "atr_dict = json.loads(astronauts.text)\n",
    "type(atr_dict)\n",
    "\n",
    "print(atr_dict.get(\"number\"))"
   ]
  },
  {
   "cell_type": "markdown",
   "metadata": {},
   "source": [
    "* Print the names of all astronauts "
   ]
  },
  {
   "cell_type": "code",
   "execution_count": 133,
   "metadata": {},
   "outputs": [
    {
     "name": "stdout",
     "output_type": "stream",
     "text": [
      "Oleg Kononenko\n",
      "David Saint-Jacques\n",
      "Anne McClain\n",
      "Alexey Ovchinin\n",
      "Nick Hague\n",
      "Christina Koch\n"
     ]
    }
   ],
   "source": [
    "list2 = atr_dict.get(\"people\")\n",
    "for elem in list2:\n",
    "    print(elem.get(\"name\"))"
   ]
  },
  {
   "cell_type": "markdown",
   "metadata": {},
   "source": [
    "* A lot of Web APIs require a api-key for interacting with them (like Twitter, Facebook, …). You find at http://www.python-requests.org/en/latest/user/authentication/ more information for Authentication for Web APIs with the request package\n",
    "* There are also special Python packages for interacting with services. E.g. for Twitter: http://www.tweepy.org/ or  https://github.com/bear/python-twitter \n",
    "\n",
    "See e.g. http://socialmedia-class.org/twittertutorial.html for a tutorial"
   ]
  },
  {
   "cell_type": "markdown",
   "metadata": {},
   "source": [
    "## 2. Creating a Web API\n",
    "\n",
    "* Create a folder `webapi` and change into it.\n",
    "* Create in the `webapi` folder a file with the name `Dockerfile` with the following content:\n",
    "\n",
    "----\n",
    "```bash\n",
    "# Use an official Python runtime as a parent image\n",
    "FROM python:3.7-slim\n",
    "\n",
    "# Set the working directory to /app\n",
    "WORKDIR /app\n",
    "\n",
    "# Copy the current directory contents into the container at /app\n",
    "COPY app/ /app\n",
    "\n",
    "# Install any needed packages specified in requirements.txt\n",
    "RUN pip install --trusted-host pypi.python.org -r requirements.txt\n",
    "\n",
    "# Make port 80 available to the world outside this container\n",
    "EXPOSE 80\n",
    "\n",
    "# Run app.py when the container launches\n",
    "CMD [\"python\", \"app.py\"]\n",
    "```\n",
    "\n",
    "-----\n",
    "\n",
    "* We can also use Docker compose with just one service. Create in your `webapi` folder a `docker-compose.yml` file:\n",
    "\n",
    "-----\n",
    "\n",
    "```yaml\n",
    "version: '3'\n",
    "services:\n",
    "  api:\n",
    "    build: .\n",
    "    ports:\n",
    "      - \"5000:80\"\n",
    "    restart: always\n",
    "    volumes:\n",
    "      - ./app:/app\n",
    "```\n",
    "-----\n",
    "\n",
    "* Create a folder in the `webapi` folder a new folder with the name `app`\n",
    "* We will build a web API with `Flask` (http://flask.pocoo.org/) . Create a `requirements.txt` file in the `app` folder. Here we can specify all python `pip` packages that we need:\n",
    "\n",
    "-----\n",
    "```bash\n",
    "Flask\n",
    "```\n",
    "-----\n",
    "\n",
    "* Create the `app.py` file in the `app` folder:\n",
    "\n",
    "-----\n",
    "```python\n",
    "from flask import Flask\n",
    "from flask import request, jsonify\n",
    "\n",
    "app = Flask(__name__)\n",
    "\n",
    "courses = [\n",
    "    {'id': 0,\n",
    "     'title': 'Data Science',\n",
    "     'professor': 'Markus Löcher',\n",
    "     'semester': '1'},\n",
    "    {'id': 1,\n",
    "     'title': 'Data Warehousing',\n",
    "     'professor': 'Roland M. Mueller',\n",
    "     'semester': '1'},\n",
    "    {'id': 2,\n",
    "     'title': 'Business Process Management',\n",
    "     'professor': 'Frank Habermann',\n",
    "     'semester': '1'},\n",
    "    {'id': 3,\n",
    "     'title': 'Stratigic Issues of IT',\n",
    "     'professor': 'Sven Pohland',\n",
    "     'semester': '1'},\n",
    "    {'id': 4,\n",
    "     'title': 'Text, Web and Social Media Analytics Lab',\n",
    "     'professor': 'Markus Löcher',\n",
    "     'semester': '2'},\n",
    "    {'id': 5,\n",
    "     'title': 'Enterprise Architectures for Big Data',\n",
    "     'professor': 'Roland M. Mueller',\n",
    "     'semester': '2'},\n",
    "    {'id': 6,\n",
    "     'title': 'Business Process Integration Lab',\n",
    "     'professor': 'Frank Habermann',\n",
    "     'semester': '2'},\n",
    "    {'id': 7,\n",
    "     'title': 'IT-Security and Privacy',\n",
    "     'professor': 'Dennis Uckel',\n",
    "     'semester': '2'},\n",
    "    {'id': 8,\n",
    "     'title': 'Research Methods',\n",
    "     'professor': 'Marcus Birkenkrahe',\n",
    "     'semester': '2'},\n",
    "]\n",
    "\n",
    "@app.route('/api/v1/courses/all', methods=['GET'])\n",
    "def api_all():\n",
    "    return jsonify(courses)\n",
    "\n",
    "@app.route('/api/v1/courses', methods=['GET'])\n",
    "def api_id():\n",
    "    # Check if an ID was provided as part of the URL.\n",
    "    # If ID is provided, assign it to a variable.\n",
    "    # If no ID is provided, display an error in the browser.\n",
    "    if 'id' in request.args:\n",
    "        id = int(request.args['id'])\n",
    "    else:\n",
    "        return \"Error: No id field provided. Please specify an id.\"\n",
    "\n",
    "    # Create an empty list for our results\n",
    "    results = []\n",
    "\n",
    "    # Loop through the data and match results that fit the requested ID.\n",
    "    # IDs are unique, but other fields might return many results\n",
    "    for course in courses:\n",
    "        if course['id'] == id:\n",
    "            results.append(course)\n",
    "\n",
    "    # Use the jsonify function from Flask to convert our list of\n",
    "    # Python dictionaries to the JSON format.\n",
    "    return jsonify(results)\n",
    "\n",
    "if __name__ == \"__main__\":\n",
    "    app.run(host=\"0.0.0.0\", port=80, debug=True)\n",
    "```\n",
    "-----\n",
    "* Open http://localhost:5000/api/v1/courses/all in a browser\n",
    "* Open http://localhost:5000/api/v1/courses?id=5 in a browser\n"
   ]
  },
  {
   "cell_type": "markdown",
   "metadata": {
    "collapsed": true
   },
   "source": [
    "* Use your own API here in the Jupyter Notebook with Python and print all names of all courses "
   ]
  },
  {
   "cell_type": "code",
   "execution_count": 144,
   "metadata": {},
   "outputs": [
    {
     "name": "stdout",
     "output_type": "stream",
     "text": [
      "('[\\n'\n",
      " '  {\\n'\n",
      " '    \"id\": 0, \\n'\n",
      " '    \"professor\": \"Markus L\\\\u00f6cher\", \\n'\n",
      " '    \"semester\": \"1\", \\n'\n",
      " '    \"title\": \"Data Science\"\\n'\n",
      " '  }, \\n'\n",
      " '  {\\n'\n",
      " '    \"id\": 1, \\n'\n",
      " '    \"professor\": \"Roland M. Mueller\", \\n'\n",
      " '    \"semester\": \"1\", \\n'\n",
      " '    \"title\": \"Data Warehousing\"\\n'\n",
      " '  }, \\n'\n",
      " '  {\\n'\n",
      " '    \"id\": 2, \\n'\n",
      " '    \"professor\": \"Frank Habermann\", \\n'\n",
      " '    \"semester\": \"1\", \\n'\n",
      " '    \"title\": \"Business Process Management\"\\n'\n",
      " '  }, \\n'\n",
      " '  {\\n'\n",
      " '    \"id\": 3, \\n'\n",
      " '    \"professor\": \"Sven Pohland\", \\n'\n",
      " '    \"semester\": \"1\", \\n'\n",
      " '    \"title\": \"Stratigic Issues of IT\"\\n'\n",
      " '  }, \\n'\n",
      " '  {\\n'\n",
      " '    \"id\": 4, \\n'\n",
      " '    \"professor\": \"Markus L\\\\u00f6cher\", \\n'\n",
      " '    \"semester\": \"2\", \\n'\n",
      " '    \"title\": \"Text, Web and Social Media Analytics Lab\"\\n'\n",
      " '  }, \\n'\n",
      " '  {\\n'\n",
      " '    \"id\": 5, \\n'\n",
      " '    \"professor\": \"Roland M. Mueller\", \\n'\n",
      " '    \"semester\": \"2\", \\n'\n",
      " '    \"title\": \"Enterprise Architectures for Big Data\"\\n'\n",
      " '  }, \\n'\n",
      " '  {\\n'\n",
      " '    \"id\": 6, \\n'\n",
      " '    \"professor\": \"Frank Habermann\", \\n'\n",
      " '    \"semester\": \"2\", \\n'\n",
      " '    \"title\": \"Business Process Integration Lab\"\\n'\n",
      " '  }, \\n'\n",
      " '  {\\n'\n",
      " '    \"id\": 7, \\n'\n",
      " '    \"professor\": \"Dennis Uckel\", \\n'\n",
      " '    \"semester\": \"2\", \\n'\n",
      " '    \"title\": \"IT-Security and Privacy\"\\n'\n",
      " '  }, \\n'\n",
      " '  {\\n'\n",
      " '    \"id\": 8, \\n'\n",
      " '    \"professor\": \"Marcus Birkenkrahe\", \\n'\n",
      " '    \"semester\": \"2\", \\n'\n",
      " '    \"title\": \"Research Methods\"\\n'\n",
      " '  }\\n'\n",
      " ']\\n')\n",
      "<class 'requests.models.Response'>\n"
     ]
    }
   ],
   "source": [
    "course_names = requests.get(\"http://localhost:5000/api/v1/courses/all\")\n",
    "pprint(course_names.text)\n",
    "print(type(course_names))"
   ]
  },
  {
   "cell_type": "code",
   "execution_count": 156,
   "metadata": {},
   "outputs": [
    {
     "data": {
      "text/plain": [
       "method"
      ]
     },
     "execution_count": 156,
     "metadata": {},
     "output_type": "execute_result"
    }
   ],
   "source": [
    "type(course_names.json)"
   ]
  },
  {
   "cell_type": "code",
   "execution_count": 171,
   "metadata": {},
   "outputs": [
    {
     "name": "stdout",
     "output_type": "stream",
     "text": [
      "<class 'dict'>\n",
      "Data Science\n",
      "Data Warehousing\n",
      "Business Process Management\n",
      "Stratigic Issues of IT\n",
      "Text, Web and Social Media Analytics Lab\n",
      "Enterprise Architectures for Big Data\n",
      "Business Process Integration Lab\n",
      "IT-Security and Privacy\n",
      "Research Methods\n"
     ]
    }
   ],
   "source": [
    "course_list = json.loads(course_names.text)\n",
    "type(course_list)\n",
    "print(type(course_list[0]))\n",
    "for elem in course_list:\n",
    "    print(elem.get(\"title\"))"
   ]
  },
  {
   "cell_type": "markdown",
   "metadata": {},
   "source": [
    "* Add the possibility to find courses based on the semester\n",
    "* Use your API in Python and print all names of all courses in the second semester"
   ]
  },
  {
   "cell_type": "code",
   "execution_count": 175,
   "metadata": {},
   "outputs": [
    {
     "name": "stdout",
     "output_type": "stream",
     "text": [
      "Text, Web and Social Media Analytics Lab\n",
      "Enterprise Architectures for Big Data\n",
      "Business Process Integration Lab\n",
      "IT-Security and Privacy\n",
      "Research Methods\n",
      "None\n"
     ]
    }
   ],
   "source": [
    "def get_semester_course(sem):\n",
    "    for elem in course_list:\n",
    "        if elem.get(\"semester\") == str(sem):\n",
    "            print(elem.get(\"title\"))\n",
    "\n",
    "print(get_semester_course(2))"
   ]
  },
  {
   "cell_type": "markdown",
   "metadata": {},
   "source": [
    "* Add a function that can convert Fahrenheit to Celsius \n",
    "* Call your API and get the Celsius value for 100°F Fahrenheit"
   ]
  },
  {
   "cell_type": "code",
   "execution_count": 181,
   "metadata": {},
   "outputs": [
    {
     "data": {
      "text/plain": [
       "'<?xml version=\"1.0\" encoding=\"UTF-8\"?>\\n<weatherdata><location><name>London</name><type></type><country>US</country><timezone></timezone><location altitude=\"0\" latitude=\"39.8865\" longitude=\"-83.4483\" geobase=\"geonames\" geobaseid=\"4517009\"></location></location><credit></credit><meta><lastupdate></lastupdate><calctime>0.0028</calctime><nextupdate></nextupdate></meta><sun rise=\"2017-03-03T12:03:03\" set=\"2017-03-03T23:28:37\"></sun><forecast><time from=\"2017-03-03T06:00:00\" to=\"2017-03-03T09:00:00\"><symbol number=\"600\" name=\"light snow\" var=\"13n\"></symbol><precipitation unit=\"3h\" value=\"0.03125\" type=\"snow\"></precipitation><windDirection deg=\"303.004\" code=\"WNW\" name=\"West-northwest\"></windDirection><windSpeed mps=\"2.29\" name=\"Light breeze\"></windSpeed><temperature unit=\"kelvin\" value=\"269.91\" min=\"269.91\" max=\"270.877\"></temperature><pressure unit=\"hPa\" value=\"1005.61\"></pressure><humidity value=\"93\" unit=\"%\"></humidity><clouds value=\"scattered clouds\" all=\"32\" unit=\"%\"></clouds></time><time from=\"2017-03-03T09:00:00\" to=\"2017-03-03T12:00:00\"><symbol number=\"800\" name=\"clear sky\" var=\"01n\"></symbol><precipitation unit=\"3h\" value=\"0.0225\" type=\"snow\"></precipitation><windDirection deg=\"293.503\" code=\"WNW\" name=\"West-northwest\"></windDirection><windSpeed mps=\"3.55\" name=\"Gentle Breeze\"></windSpeed><temperature unit=\"kelvin\" value=\"269.23\" min=\"269.23\" max=\"269.957\"></temperature><pressure unit=\"hPa\" value=\"1007.39\"></pressure><humidity value=\"90\" unit=\"%\"></humidity><clouds value=\"scattered clouds\" all=\"36\" unit=\"%\"></clouds></time><time from=\"2017-03-03T12:00:00\" to=\"2017-03-03T15:00:00\"><symbol number=\"800\" name=\"clear sky\" var=\"01d\"></symbol><precipitation unit=\"3h\" value=\"0.0125\" type=\"snow\"></precipitation><windDirection deg=\"301.5\" code=\"WNW\" name=\"West-northwest\"></windDirection><windSpeed mps=\"6.26\" name=\"Moderate breeze\"></windSpeed><temperature unit=\"kelvin\" value=\"270.93\" min=\"270.93\" max=\"271.416\"></temperature><pressure unit=\"hPa\" value=\"1009.81\"></pressure><humidity value=\"100\" unit=\"%\"></humidity><clouds value=\"few clouds\" all=\"24\" unit=\"%\"></clouds></time><time from=\"2017-03-03T15:00:00\" to=\"2017-03-03T18:00:00\"><symbol number=\"800\" name=\"clear sky\" var=\"01d\"></symbol><precipitation unit=\"3h\" value=\"0.0025\" type=\"snow\"></precipitation><windDirection deg=\"302.005\" code=\"WNW\" name=\"West-northwest\"></windDirection><windSpeed mps=\"7.31\" name=\"Moderate breeze\"></windSpeed><temperature unit=\"kelvin\" value=\"272.25\" min=\"272.25\" max=\"272.491\"></temperature><pressure unit=\"hPa\" value=\"1011.51\"></pressure><humidity value=\"92\" unit=\"%\"></humidity><clouds value=\"scattered clouds\" all=\"32\" unit=\"%\"></clouds></time><time from=\"2017-03-03T18:00:00\" to=\"2017-03-03T21:00:00\"><symbol number=\"800\" name=\"clear sky\" var=\"02d\"></symbol><precipitation></precipitation><windDirection deg=\"298.5\" code=\"WNW\" name=\"West-northwest\"></windDirection><windSpeed mps=\"6.61\" name=\"Moderate breeze\"></windSpeed><temperature unit=\"kelvin\" value=\"272.817\" min=\"272.817\" max=\"272.817\"></temperature><pressure unit=\"hPa\" value=\"1012.1\"></pressure><humidity value=\"79\" unit=\"%\"></humidity><clouds value=\"clear sky\" all=\"8\" unit=\"%\"></clouds></time><time from=\"2017-03-03T21:00:00\" to=\"2017-03-04T00:00:00\"><symbol number=\"800\" name=\"clear sky\" var=\"01n\"></symbol><precipitation></precipitation><windDirection deg=\"294.502\" code=\"WNW\" name=\"West-northwest\"></windDirection><windSpeed mps=\"4.26\" name=\"Gentle Breeze\"></windSpeed><temperature unit=\"kelvin\" value=\"270.438\" min=\"270.438\" max=\"270.438\"></temperature><pressure unit=\"hPa\" value=\"1012.92\"></pressure><humidity value=\"65\" unit=\"%\"></humidity><clouds value=\"clear sky\" all=\"0\" unit=\"%\"></clouds></time><time from=\"2017-03-04T00:00:00\" to=\"2017-03-04T03:00:00\"><symbol number=\"800\" name=\"clear sky\" var=\"01n\"></symbol><precipitation></precipitation><windDirection deg=\"292\" code=\"WNW\" name=\"West-northwest\"></windDirection><windSpeed mps=\"2.66\" name=\"Light breeze\"></windSpeed><temperature unit=\"kelvin\" value=\"268.016\" min=\"268.016\" max=\"268.016\"></temperature><pressure unit=\"hPa\" value=\"1013.34\"></pressure><humidity value=\"66\" unit=\"%\"></humidity><clouds value=\"clear sky\" all=\"0\" unit=\"%\"></clouds></time><time from=\"2017-03-04T03:00:00\" to=\"2017-03-04T06:00:00\"><symbol number=\"801\" name=\"few clouds\" var=\"02n\"></symbol><precipitation></precipitation><windDirection deg=\"290.001\" code=\"WNW\" name=\"West-northwest\"></windDirection><windSpeed mps=\"1.42\" name=\"Calm\"></windSpeed><temperature unit=\"kelvin\" value=\"267.082\" min=\"267.082\" max=\"267.082\"></temperature><pressure unit=\"hPa\" value=\"1013.88\"></pressure><humidity value=\"71\" unit=\"%\"></humidity><clouds value=\"few clouds\" all=\"20\" unit=\"%\"></clouds></time><time from=\"2017-03-04T06:00:00\" to=\"2017-03-04T09:00:00\"><symbol number=\"802\" name=\"scattered clouds\" var=\"03n\"></symbol><precipitation></precipitation><windDirection deg=\"344.003\" code=\"NNW\" name=\"North-northeast\"></windDirection><windSpeed mps=\"1.32\" name=\"Calm\"></windSpeed><temperature unit=\"kelvin\" value=\"268.057\" min=\"268.057\" max=\"268.057\"></temperature><pressure unit=\"hPa\" value=\"1013.66\"></pressure><humidity value=\"70\" unit=\"%\"></humidity><clouds value=\"scattered clouds\" all=\"44\" unit=\"%\"></clouds></time><time from=\"2017-03-04T09:00:00\" to=\"2017-03-04T12:00:00\"><symbol number=\"600\" name=\"light snow\" var=\"13n\"></symbol><precipitation unit=\"3h\" value=\"0.13\" type=\"snow\"></precipitation><windDirection deg=\"143.001\" code=\"SE\" name=\"SouthEast\"></windDirection><windSpeed mps=\"1.91\" name=\"Light breeze\"></windSpeed><temperature unit=\"kelvin\" value=\"268.687\" min=\"268.687\" max=\"268.687\"></temperature><pressure unit=\"hPa\" value=\"1014.24\"></pressure><humidity value=\"78\" unit=\"%\"></humidity><clouds value=\"broken clouds\" all=\"80\" unit=\"%\"></clouds></time><time from=\"2017-03-04T12:00:00\" to=\"2017-03-04T15:00:00\"><symbol number=\"804\" name=\"overcast clouds\" var=\"04d\"></symbol><precipitation></precipitation><windDirection deg=\"136.502\" code=\"SE\" name=\"SouthEast\"></windDirection><windSpeed mps=\"3.16\" name=\"Light breeze\"></windSpeed><temperature unit=\"kelvin\" value=\"270.296\" min=\"270.296\" max=\"270.296\"></temperature><pressure unit=\"hPa\" value=\"1014.65\"></pressure><humidity value=\"85\" unit=\"%\"></humidity><clouds value=\"overcast clouds\" all=\"92\" unit=\"%\"></clouds></time><time from=\"2017-03-04T15:00:00\" to=\"2017-03-04T18:00:00\"><symbol number=\"600\" name=\"light snow\" var=\"13d\"></symbol><precipitation unit=\"3h\" value=\"0.835\" type=\"snow\"></precipitation><windDirection deg=\"130.504\" code=\"SE\" name=\"SouthEast\"></windDirection><windSpeed mps=\"4.16\" name=\"Gentle Breeze\"></windSpeed><temperature unit=\"kelvin\" value=\"273.066\" min=\"273.066\" max=\"273.066\"></temperature><pressure unit=\"hPa\" value=\"1012.99\"></pressure><humidity value=\"88\" unit=\"%\"></humidity><clouds value=\"few clouds\" all=\"20\" unit=\"%\"></clouds></time><time from=\"2017-03-04T18:00:00\" to=\"2017-03-04T21:00:00\"><symbol number=\"800\" name=\"clear sky\" var=\"01d\"></symbol><precipitation></precipitation><windDirection deg=\"143.5\" code=\"SE\" name=\"SouthEast\"></windDirection><windSpeed mps=\"2.77\" name=\"Light breeze\"></windSpeed><temperature unit=\"kelvin\" value=\"276.767\" min=\"276.767\" max=\"276.767\"></temperature><pressure unit=\"hPa\" value=\"1011.06\"></pressure><humidity value=\"84\" unit=\"%\"></humidity><clouds value=\"clear sky\" all=\"0\" unit=\"%\"></clouds></time><time from=\"2017-03-04T21:00:00\" to=\"2017-03-05T00:00:00\"><symbol number=\"800\" name=\"clear sky\" var=\"01n\"></symbol><precipitation></precipitation><windDirection deg=\"89.5023\" code=\"E\" name=\"East\"></windDirection><windSpeed mps=\"3.73\" name=\"Gentle Breeze\"></windSpeed><temperature unit=\"kelvin\" value=\"274.492\" min=\"274.492\" max=\"274.492\"></temperature><pressure unit=\"hPa\" value=\"1010.42\"></pressure><humidity value=\"70\" unit=\"%\"></humidity><clouds value=\"clear sky\" all=\"0\" unit=\"%\"></clouds></time><time from=\"2017-03-05T00:00:00\" to=\"2017-03-05T03:00:00\"><symbol number=\"800\" name=\"clear sky\" var=\"01n\"></symbol><precipitation></precipitation><windDirection deg=\"97.5005\" code=\"E\" name=\"East\"></windDirection><windSpeed mps=\"4.97\" name=\"Gentle Breeze\"></windSpeed><temperature unit=\"kelvin\" value=\"271.485\" min=\"271.485\" max=\"271.485\"></temperature><pressure unit=\"hPa\" value=\"1011.31\"></pressure><humidity value=\"72\" unit=\"%\"></humidity><clouds value=\"clear sky\" all=\"0\" unit=\"%\"></clouds></time><time from=\"2017-03-05T03:00:00\" to=\"2017-03-05T06:00:00\"><symbol number=\"800\" name=\"clear sky\" var=\"01n\"></symbol><precipitation></precipitation><windDirection deg=\"107.002\" code=\"ESE\" name=\"East-southeast\"></windDirection><windSpeed mps=\"4.67\" name=\"Gentle Breeze\"></windSpeed><temperature unit=\"kelvin\" value=\"270.202\" min=\"270.202\" max=\"270.202\"></temperature><pressure unit=\"hPa\" value=\"1011.33\"></pressure><humidity value=\"72\" unit=\"%\"></humidity><clouds value=\"clear sky\" all=\"0\" unit=\"%\"></clouds></time><time from=\"2017-03-05T06:00:00\" to=\"2017-03-05T09:00:00\"><symbol number=\"800\" name=\"clear sky\" var=\"01n\"></symbol><precipitation></precipitation><windDirection deg=\"116.504\" code=\"ESE\" name=\"East-southeast\"></windDirection><windSpeed mps=\"4.57\" name=\"Gentle Breeze\"></windSpeed><temperature unit=\"kelvin\" value=\"270.002\" min=\"270.002\" max=\"270.002\"></temperature><pressure unit=\"hPa\" value=\"1010.53\"></pressure><humidity value=\"77\" unit=\"%\"></humidity><clouds value=\"clear sky\" all=\"0\" unit=\"%\"></clouds></time><time from=\"2017-03-05T09:00:00\" to=\"2017-03-05T12:00:00\"><symbol number=\"800\" name=\"clear sky\" var=\"01d\"></symbol><precipitation></precipitation><windDirection deg=\"127.003\" code=\"SE\" name=\"SouthEast\"></windDirection><windSpeed mps=\"4.56\" name=\"Gentle Breeze\"></windSpeed><temperature unit=\"kelvin\" value=\"270.017\" min=\"270.017\" max=\"270.017\"></temperature><pressure unit=\"hPa\" value=\"1010.21\"></pressure><humidity value=\"73\" unit=\"%\"></humidity><clouds value=\"clear sky\" all=\"0\" unit=\"%\"></clouds></time><time from=\"2017-03-05T12:00:00\" to=\"2017-03-05T15:00:00\"><symbol number=\"800\" name=\"clear sky\" var=\"01d\"></symbol><precipitation></precipitation><windDirection deg=\"148.002\" code=\"SSE\" name=\"South-southeast\"></windDirection><windSpeed mps=\"4.68\" name=\"Gentle Breeze\"></windSpeed><temperature unit=\"kelvin\" value=\"276.199\" min=\"276.199\" max=\"276.199\"></temperature><pressure unit=\"hPa\" value=\"1010.18\"></pressure><humidity value=\"81\" unit=\"%\"></humidity><clouds value=\"clear sky\" all=\"0\" unit=\"%\"></clouds></time><time from=\"2017-03-05T15:00:00\" to=\"2017-03-05T18:00:00\"><symbol number=\"800\" name=\"clear sky\" var=\"01d\"></symbol><precipitation></precipitation><windDirection deg=\"174.5\" code=\"S\" name=\"South\"></windDirection><windSpeed mps=\"4.72\" name=\"Gentle Breeze\"></windSpeed><temperature unit=\"kelvin\" value=\"284.031\" min=\"284.031\" max=\"284.031\"></temperature><pressure unit=\"hPa\" value=\"1008.28\"></pressure><humidity value=\"80\" unit=\"%\"></humidity><clouds value=\"clear sky\" all=\"0\" unit=\"%\"></clouds></time><time from=\"2017-03-05T18:00:00\" to=\"2017-03-05T21:00:00\"><symbol number=\"802\" name=\"scattered clouds\" var=\"03d\"></symbol><precipitation></precipitation><windDirection deg=\"207.501\" code=\"SSW\" name=\"South-southwest\"></windDirection><windSpeed mps=\"5.02\" name=\"Gentle Breeze\"></windSpeed><temperature unit=\"kelvin\" value=\"286.276\" min=\"286.276\" max=\"286.276\"></temperature><pressure unit=\"hPa\" value=\"1005.92\"></pressure><humidity value=\"71\" unit=\"%\"></humidity><clouds value=\"scattered clouds\" all=\"32\" unit=\"%\"></clouds></time><time from=\"2017-03-05T21:00:00\" to=\"2017-03-06T00:00:00\"><symbol number=\"802\" name=\"scattered clouds\" var=\"03n\"></symbol><precipitation></precipitation><windDirection deg=\"200.003\" code=\"SSW\" name=\"South-southwest\"></windDirection><windSpeed mps=\"4.81\" name=\"Gentle Breeze\"></windSpeed><temperature unit=\"kelvin\" value=\"282.168\" min=\"282.168\" max=\"282.168\"></temperature><pressure unit=\"hPa\" value=\"1005.45\"></pressure><humidity value=\"64\" unit=\"%\"></humidity><clouds value=\"scattered clouds\" all=\"44\" unit=\"%\"></clouds></time><time from=\"2017-03-06T00:00:00\" to=\"2017-03-06T03:00:00\"><symbol number=\"800\" name=\"clear sky\" var=\"01n\"></symbol><precipitation></precipitation><windDirection deg=\"201.001\" code=\"SSW\" name=\"South-southwest\"></windDirection><windSpeed mps=\"5.37\" name=\"Gentle Breeze\"></windSpeed><temperature unit=\"kelvin\" value=\"279.202\" min=\"279.202\" max=\"279.202\"></temperature><pressure unit=\"hPa\" value=\"1005.45\"></pressure><humidity value=\"68\" unit=\"%\"></humidity><clouds value=\"clear sky\" all=\"0\" unit=\"%\"></clouds></time><time from=\"2017-03-06T03:00:00\" to=\"2017-03-06T06:00:00\"><symbol number=\"802\" name=\"scattered clouds\" var=\"03n\"></symbol><precipitation></precipitation><windDirection deg=\"201.001\" code=\"SSW\" name=\"South-southwest\"></windDirection><windSpeed mps=\"5.21\" name=\"Gentle Breeze\"></windSpeed><temperature unit=\"kelvin\" value=\"278.025\" min=\"278.025\" max=\"278.025\"></temperature><pressure unit=\"hPa\" value=\"1005.18\"></pressure><humidity value=\"72\" unit=\"%\"></humidity><clouds value=\"scattered clouds\" all=\"44\" unit=\"%\"></clouds></time><time from=\"2017-03-06T06:00:00\" to=\"2017-03-06T09:00:00\"><symbol number=\"803\" name=\"broken clouds\" var=\"04n\"></symbol><precipitation></precipitation><windDirection deg=\"203.503\" code=\"SSW\" name=\"South-southwest\"></windDirection><windSpeed mps=\"5.42\" name=\"\"></windSpeed><temperature unit=\"kelvin\" value=\"278.123\" min=\"278.123\" max=\"278.123\"></temperature><pressure unit=\"hPa\" value=\"1004.75\"></pressure><humidity value=\"74\" unit=\"%\"></humidity><clouds value=\"broken clouds\" all=\"76\" unit=\"%\"></clouds></time><time from=\"2017-03-06T09:00:00\" to=\"2017-03-06T12:00:00\"><symbol number=\"804\" name=\"overcast clouds\" var=\"04d\"></symbol><precipitation></precipitation><windDirection deg=\"202.003\" code=\"SSW\" name=\"South-southwest\"></windDirection><windSpeed mps=\"5.41\" name=\"\"></windSpeed><temperature unit=\"kelvin\" value=\"278.704\" min=\"278.704\" max=\"278.704\"></temperature><pressure unit=\"hPa\" value=\"1004.96\"></pressure><humidity value=\"74\" unit=\"%\"></humidity><clouds value=\"overcast clouds\" all=\"92\" unit=\"%\"></clouds></time><time from=\"2017-03-06T12:00:00\" to=\"2017-03-06T15:00:00\"><symbol number=\"802\" name=\"scattered clouds\" var=\"03d\"></symbol><precipitation></precipitation><windDirection deg=\"193.502\" code=\"SSW\" name=\"South-southwest\"></windDirection><windSpeed mps=\"6.01\" name=\"Moderate breeze\"></windSpeed><temperature unit=\"kelvin\" value=\"282.402\" min=\"282.402\" max=\"282.402\"></temperature><pressure unit=\"hPa\" value=\"1004.49\"></pressure><humidity value=\"74\" unit=\"%\"></humidity><clouds value=\"scattered clouds\" all=\"48\" unit=\"%\"></clouds></time><time from=\"2017-03-06T15:00:00\" to=\"2017-03-06T18:00:00\"><symbol number=\"500\" name=\"light rain\" var=\"10d\"></symbol><precipitation unit=\"3h\" value=\"0.02\" type=\"rain\"></precipitation><windDirection deg=\"203\" code=\"SSW\" name=\"South-southwest\"></windDirection><windSpeed mps=\"9.16\" name=\"Fresh Breeze\"></windSpeed><temperature unit=\"kelvin\" value=\"287.36\" min=\"287.36\" max=\"287.36\"></temperature><pressure unit=\"hPa\" value=\"1002.21\"></pressure><humidity value=\"76\" unit=\"%\"></humidity><clouds value=\"few clouds\" all=\"24\" unit=\"%\"></clouds></time><time from=\"2017-03-06T18:00:00\" to=\"2017-03-06T21:00:00\"><symbol number=\"804\" name=\"overcast clouds\" var=\"04d\"></symbol><precipitation></precipitation><windDirection deg=\"202.501\" code=\"SSW\" name=\"South-southwest\"></windDirection><windSpeed mps=\"8.72\" name=\"Fresh Breeze\"></windSpeed><temperature unit=\"kelvin\" value=\"288.081\" min=\"288.081\" max=\"288.081\"></temperature><pressure unit=\"hPa\" value=\"1000.08\"></pressure><humidity value=\"74\" unit=\"%\"></humidity><clouds value=\"overcast clouds\" all=\"88\" unit=\"%\"></clouds></time><time from=\"2017-03-06T21:00:00\" to=\"2017-03-07T00:00:00\"><symbol number=\"500\" name=\"light rain\" var=\"10n\"></symbol><precipitation unit=\"3h\" value=\"0.51\" type=\"rain\"></precipitation><windDirection deg=\"187.001\" code=\"S\" name=\"South\"></windDirection><windSpeed mps=\"7.01\" name=\"Moderate breeze\"></windSpeed><temperature unit=\"kelvin\" value=\"286.823\" min=\"286.823\" max=\"286.823\"></temperature><pressure unit=\"hPa\" value=\"999.09\"></pressure><humidity value=\"76\" unit=\"%\"></humidity><clouds value=\"overcast clouds\" all=\"92\" unit=\"%\"></clouds></time><time from=\"2017-03-07T00:00:00\" to=\"2017-03-07T03:00:00\"><symbol number=\"804\" name=\"overcast clouds\" var=\"04n\"></symbol><precipitation></precipitation><windDirection deg=\"192\" code=\"SSW\" name=\"South-southwest\"></windDirection><windSpeed mps=\"9.06\" name=\"Fresh Breeze\"></windSpeed><temperature unit=\"kelvin\" value=\"286.627\" min=\"286.627\" max=\"286.627\"></temperature><pressure unit=\"hPa\" value=\"998.08\"></pressure><humidity value=\"72\" unit=\"%\"></humidity><clouds value=\"overcast clouds\" all=\"92\" unit=\"%\"></clouds></time><time from=\"2017-03-07T03:00:00\" to=\"2017-03-07T06:00:00\"><symbol number=\"804\" name=\"overcast clouds\" var=\"04n\"></symbol><precipitation></precipitation><windDirection deg=\"200.502\" code=\"SSW\" name=\"South-southwest\"></windDirection><windSpeed mps=\"10.06\" name=\"Fresh Breeze\"></windSpeed><temperature unit=\"kelvin\" value=\"286.38\" min=\"286.38\" max=\"286.38\"></temperature><pressure unit=\"hPa\" value=\"997.51\"></pressure><humidity value=\"76\" unit=\"%\"></humidity><clouds value=\"overcast clouds\" all=\"92\" unit=\"%\"></clouds></time><time from=\"2017-03-07T06:00:00\" to=\"2017-03-07T09:00:00\"><symbol number=\"804\" name=\"overcast clouds\" var=\"04n\"></symbol><precipitation></precipitation><windDirection deg=\"204.501\" code=\"SSW\" name=\"South-southwest\"></windDirection><windSpeed mps=\"9.36\" name=\"Fresh Breeze\"></windSpeed><temperature unit=\"kelvin\" value=\"286.222\" min=\"286.222\" max=\"286.222\"></temperature><pressure unit=\"hPa\" value=\"996.68\"></pressure><humidity value=\"88\" unit=\"%\"></humidity><clouds value=\"overcast clouds\" all=\"92\" unit=\"%\"></clouds></time><time from=\"2017-03-07T09:00:00\" to=\"2017-03-07T12:00:00\"><symbol number=\"501\" name=\"moderate rain\" var=\"10d\"></symbol><precipitation unit=\"3h\" value=\"3.65\" type=\"rain\"></precipitation><windDirection deg=\"201.5\" code=\"SSW\" name=\"South-southwest\"></windDirection><windSpeed mps=\"8.81\" name=\"Fresh Breeze\"></windSpeed><temperature unit=\"kelvin\" value=\"286.035\" min=\"286.035\" max=\"286.035\"></temperature><pressure unit=\"hPa\" value=\"996.61\"></pressure><humidity value=\"95\" unit=\"%\"></humidity><clouds value=\"overcast clouds\" all=\"92\" unit=\"%\"></clouds></time><time from=\"2017-03-07T12:00:00\" to=\"2017-03-07T15:00:00\"><symbol number=\"804\" name=\"overcast clouds\" var=\"04d\"></symbol><precipitation></precipitation><windDirection deg=\"202.001\" code=\"SSW\" name=\"South-southwest\"></windDirection><windSpeed mps=\"8.87\" name=\"Fresh Breeze\"></windSpeed><temperature unit=\"kelvin\" value=\"286.965\" min=\"286.965\" max=\"286.965\"></temperature><pressure unit=\"hPa\" value=\"995.94\"></pressure><humidity value=\"96\" unit=\"%\"></humidity><clouds value=\"overcast clouds\" all=\"92\" unit=\"%\"></clouds></time><time from=\"2017-03-07T15:00:00\" to=\"2017-03-07T18:00:00\"><symbol number=\"804\" name=\"overcast clouds\" var=\"04d\"></symbol><precipitation></precipitation><windDirection deg=\"211.507\" code=\"SSW\" name=\"South-southwest\"></windDirection><windSpeed mps=\"7.86\" name=\"Moderate breeze\"></windSpeed><temperature unit=\"kelvin\" value=\"288.163\" min=\"288.163\" max=\"288.163\"></temperature><pressure unit=\"hPa\" value=\"994.32\"></pressure><humidity value=\"98\" unit=\"%\"></humidity><clouds value=\"overcast clouds\" all=\"92\" unit=\"%\"></clouds></time><time from=\"2017-03-07T18:00:00\" to=\"2017-03-07T21:00:00\"><symbol number=\"804\" name=\"overcast clouds\" var=\"04d\"></symbol><precipitation></precipitation><windDirection deg=\"229.5\" code=\"SW\" name=\"Southwest\"></windDirection><windSpeed mps=\"7.46\" name=\"Moderate breeze\"></windSpeed><temperature unit=\"kelvin\" value=\"288.788\" min=\"288.788\" max=\"288.788\"></temperature><pressure unit=\"hPa\" value=\"993.15\"></pressure><humidity value=\"100\" unit=\"%\"></humidity><clouds value=\"overcast clouds\" all=\"88\" unit=\"%\"></clouds></time></forecast></weatherdata>'"
      ]
     },
     "execution_count": 181,
     "metadata": {},
     "output_type": "execute_result"
    }
   ],
   "source": [
    "def convert_to_celsius(url):\n",
    "    fahrenheit_res = requests.get(url)\n",
    "    fahrenheit = int(fahrenheit_res)\n",
    "    celsius = (fahrenheit - 32) / 1.8\n",
    "    return celsius\n",
    "convert_to_celsius(\"api_url\")"
   ]
  }
 ],
 "metadata": {
  "kernelspec": {
   "display_name": "Python 3",
   "language": "python",
   "name": "python3"
  },
  "language_info": {
   "codemirror_mode": {
    "name": "ipython",
    "version": 3
   },
   "file_extension": ".py",
   "mimetype": "text/x-python",
   "name": "python",
   "nbconvert_exporter": "python",
   "pygments_lexer": "ipython3",
   "version": "3.7.0"
  },
  "varInspector": {
   "cols": {
    "lenName": 16,
    "lenType": 16,
    "lenVar": 40
   },
   "kernels_config": {
    "python": {
     "delete_cmd_postfix": "",
     "delete_cmd_prefix": "del ",
     "library": "var_list.py",
     "varRefreshCmd": "print(var_dic_list())"
    },
    "r": {
     "delete_cmd_postfix": ") ",
     "delete_cmd_prefix": "rm(",
     "library": "var_list.r",
     "varRefreshCmd": "cat(var_dic_list()) "
    }
   },
   "types_to_exclude": [
    "module",
    "function",
    "builtin_function_or_method",
    "instance",
    "_Feature"
   ],
   "window_display": false
  }
 },
 "nbformat": 4,
 "nbformat_minor": 2
}
